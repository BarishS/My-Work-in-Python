{
 "cells": [
  {
   "cell_type": "markdown",
   "id": "44a1c08f",
   "metadata": {},
   "source": [
    "# 1. In below element which one of them values or expression ?\n",
    "\n",
    "Values      :-\n",
    "                'hello'\n",
    "                -87.8\n",
    "                6\n",
    "\n",
    "Expression  :-\n",
    "                *  :- Multiplication \n",
    "                -  :- Subtraction\n",
    "                /  :- Division\n",
    "                +  :- Addition"
   ]
  },
  {
   "cell_type": "markdown",
   "id": "1f4826be",
   "metadata": {},
   "source": [
    "# 2. What is diference Between strings and variables\n",
    "\n",
    "Strings :-\n",
    "    It is a contigous set of characters represented in quotation marks. I will be either pair of single or double quotes.\n",
    "        eg. :-\n",
    "              'Hello' or \"Hello\" both are same.\n",
    "        \n",
    "Variables :-\n",
    "    It is nothing but the reserved memory of location to store values, or whre you create a variable you reserve some space in       memory.We can store intergers,decimals and characters(strings) in these variables.\n",
    "        eg. :-\n",
    "              a=10,c=1.56,b=\"Barish\"\n",
    "               "
   ]
  },
  {
   "cell_type": "code",
   "execution_count": 25,
   "id": "1f661bcb",
   "metadata": {},
   "outputs": [
    {
     "name": "stdout",
     "output_type": "stream",
     "text": [
      "Barish\n"
     ]
    }
   ],
   "source": [
    "print(\"Barish\")"
   ]
  },
  {
   "cell_type": "code",
   "execution_count": 26,
   "id": "ef232ba1",
   "metadata": {},
   "outputs": [
    {
     "data": {
      "text/plain": [
       "str"
      ]
     },
     "execution_count": 26,
     "metadata": {},
     "output_type": "execute_result"
    }
   ],
   "source": [
    "type(\"Barish\")"
   ]
  },
  {
   "cell_type": "code",
   "execution_count": 29,
   "id": "3ca427ca",
   "metadata": {},
   "outputs": [],
   "source": [
    "a = 10"
   ]
  },
  {
   "cell_type": "code",
   "execution_count": 30,
   "id": "cc3fc321",
   "metadata": {},
   "outputs": [
    {
     "data": {
      "text/plain": [
       "10"
      ]
     },
     "execution_count": 30,
     "metadata": {},
     "output_type": "execute_result"
    }
   ],
   "source": [
    "a"
   ]
  },
  {
   "cell_type": "code",
   "execution_count": 31,
   "id": "7ed8414a",
   "metadata": {},
   "outputs": [
    {
     "name": "stdout",
     "output_type": "stream",
     "text": [
      " what is your current age? : 27\n"
     ]
    }
   ],
   "source": [
    "age = input(\" what is your current age? : \")"
   ]
  },
  {
   "cell_type": "code",
   "execution_count": 32,
   "id": "8b57f851",
   "metadata": {},
   "outputs": [
    {
     "data": {
      "text/plain": [
       "'27'"
      ]
     },
     "execution_count": 32,
     "metadata": {},
     "output_type": "execute_result"
    }
   ],
   "source": [
    "age"
   ]
  },
  {
   "cell_type": "markdown",
   "id": "39183352",
   "metadata": {},
   "source": [
    "# 3. Describe three different data type ?\n",
    "\n",
    "In python we can verify the data type with the use of type() function.\n",
    "\n",
    "1.Integer Or Int :-\n",
    "    It is whole no.,positive or negative, without decimals of unlimited length.\n",
    "        eg. :-\n",
    "              a=1,b=-10,c=100,d=1000,e=56546448949494,...etc.\n",
    "       \n",
    "2.Float Or floating point no. :-\n",
    "    It is the number,positive or negative, containing one or more decimals.\n",
    "        eg. :-\n",
    "              a=0.5,b=-1.5,c=1.494946165449,....etc.\n",
    "\n",
    "3.Boolean :-\n",
    "    It may have One or Two values.\n",
    "        eg. :- type(True), type(False).\n",
    "        \n",
    "4.Strings :-\n",
    "    It is a contigous set of characters represented in quotation marks. I will be either pair of single or double quotes.\n",
    "        eg. :-\n",
    "              'Barish' or \"Barish\" both are same.\n",
    "              \n",
    "5.Variables :-\n",
    "    It is nothing but the reserved memory of location to store values, or where you create a variable you reserve some space in     memory.We can store intergers,decimals and characters(strings) in these variables.\n",
    "        eg. :-\n",
    "              a=10,c=1.56,b=\"Barish\"\n",
    "              \n",
    "6.List[] :-\n",
    "    It is collection which is ordered and changeable and allows duplicate members.we have to use square brackets [] to declare       the list items.\n",
    "        eg. :-\n",
    "             a=[1,2,3,4,\"afsf\",[55,6,45]]\n",
    "\n",
    "7.tuples()\n",
    "8.dictionary{}\n",
    "              "
   ]
  },
  {
   "cell_type": "markdown",
   "id": "184b005f",
   "metadata": {},
   "source": [
    "# 4. What is an expression made up of ? What do all expression do?\n",
    "\n",
    "Expression :-\n",
    "    It is a combination of values, variables and operators\n",
    "    with the help of expresion we can do different different operations like addition,subtraction,multiplication and division \n",
    "    by using those assignment operator tokens.\n"
   ]
  },
  {
   "cell_type": "markdown",
   "id": "6440a584",
   "metadata": {},
   "source": [
    "# 5. This is assignment statement, like spam = 20 and what is difference                    between expression and statement ?\n"
   ]
  },
  {
   "cell_type": "code",
   "execution_count": 4,
   "id": "76f2f8c5",
   "metadata": {},
   "outputs": [],
   "source": [
    "Expression :- with the help of expression we can evaluted the values in opertion.\n",
    "statement  :- are the set of instructions that the interpreter can execute, and can't evaluted the values in operation."
   ]
  },
  {
   "cell_type": "markdown",
   "id": "a37d4f79",
   "metadata": {},
   "source": [
    "# 6. After runing the following code, what does the variable bacon contain? "
   ]
  },
  {
   "cell_type": "code",
   "execution_count": 5,
   "id": "198ee9b1",
   "metadata": {},
   "outputs": [
    {
     "data": {
      "text/plain": [
       "23"
      ]
     },
     "execution_count": 5,
     "metadata": {},
     "output_type": "execute_result"
    }
   ],
   "source": [
    "# bacon is set of 20 and bacuse (bacon + 1) expression we will not resign the value of bacon which is shown in output.\n",
    "bacon = 22\n",
    "bacon + 1"
   ]
  },
  {
   "cell_type": "markdown",
   "id": "a26be976",
   "metadata": {},
   "source": [
    "# 7. What should the values of following two terms be ?"
   ]
  },
  {
   "cell_type": "code",
   "execution_count": 6,
   "id": "54a21a6d",
   "metadata": {},
   "outputs": [
    {
     "data": {
      "text/plain": [
       "'spamspamspam'"
      ]
     },
     "execution_count": 6,
     "metadata": {},
     "output_type": "execute_result"
    }
   ],
   "source": [
    "'spam' + 'spamspam'"
   ]
  },
  {
   "cell_type": "code",
   "execution_count": 8,
   "id": "5052190f",
   "metadata": {},
   "outputs": [
    {
     "data": {
      "text/plain": [
       "str"
      ]
     },
     "execution_count": 8,
     "metadata": {},
     "output_type": "execute_result"
    }
   ],
   "source": [
    "type('spam' + 'spamspam')"
   ]
  },
  {
   "cell_type": "code",
   "execution_count": 7,
   "id": "bfc08078",
   "metadata": {},
   "outputs": [
    {
     "data": {
      "text/plain": [
       "'spamspamspam'"
      ]
     },
     "execution_count": 7,
     "metadata": {},
     "output_type": "execute_result"
    }
   ],
   "source": [
    "'spam' * 3"
   ]
  },
  {
   "cell_type": "code",
   "execution_count": 9,
   "id": "057f9a6b",
   "metadata": {},
   "outputs": [
    {
     "data": {
      "text/plain": [
       "str"
      ]
     },
     "execution_count": 9,
     "metadata": {},
     "output_type": "execute_result"
    }
   ],
   "source": [
    "type('spam' * 3)"
   ]
  },
  {
   "cell_type": "code",
   "execution_count": null,
   "id": "9f549986",
   "metadata": {},
   "outputs": [],
   "source": [
    "'spam' + 'spamspam'\n",
    "'spam' * 3\n",
    "both will give (str) same values as shown in output."
   ]
  },
  {
   "cell_type": "markdown",
   "id": "ee5051c1",
   "metadata": {},
   "source": [
    "# 8. Why is eggs a valid variable name and 100 is not ?\n",
    "\n",
    "Variables :-\n",
    "    A variable name must start with a letter or the underscore character. Variable name are case-sensitive.\n",
    "        eg :- eggs,Eggs,EGGS"
   ]
  },
  {
   "cell_type": "code",
   "execution_count": 10,
   "id": "e2c2f40a",
   "metadata": {},
   "outputs": [
    {
     "name": "stdout",
     "output_type": "stream",
     "text": [
      "How many eggs you purchased from store ? 10\n"
     ]
    }
   ],
   "source": [
    "eggs = input(\"How many eggs you purchased from store ? \")"
   ]
  },
  {
   "cell_type": "code",
   "execution_count": 12,
   "id": "b1d0fa40",
   "metadata": {},
   "outputs": [
    {
     "ename": "SyntaxError",
     "evalue": "cannot assign to literal (Temp/ipykernel_10656/1749070784.py, line 2)",
     "output_type": "error",
     "traceback": [
      "\u001b[1;36m  File \u001b[1;32m\"C:\\Users\\BARISH~1\\AppData\\Local\\Temp/ipykernel_10656/1749070784.py\"\u001b[1;36m, line \u001b[1;32m2\u001b[0m\n\u001b[1;33m    100 = input(\"How many eggs you purchased from store ? \")\u001b[0m\n\u001b[1;37m    ^\u001b[0m\n\u001b[1;31mSyntaxError\u001b[0m\u001b[1;31m:\u001b[0m cannot assign to literal\n"
     ]
    }
   ],
   "source": [
    "# A variable name cannot start with a number.\n",
    "100 = input(\"How many eggs you purchased from store ? \")"
   ]
  },
  {
   "cell_type": "markdown",
   "id": "604fcea2",
   "metadata": {},
   "source": [
    "# 9. What three function can be used to get the integer, floating point and string        version of values ?"
   ]
  },
  {
   "cell_type": "code",
   "execution_count": null,
   "id": "39d1288d",
   "metadata": {},
   "outputs": [],
   "source": [
    "int()\n",
    "float()\n",
    "str()\n",
    "above three flunction are used to get integer, floating and string values."
   ]
  },
  {
   "cell_type": "code",
   "execution_count": 5,
   "id": "9dd221b3",
   "metadata": {},
   "outputs": [
    {
     "name": "stdout",
     "output_type": "stream",
     "text": [
      "enter the values of a: 20\n"
     ]
    }
   ],
   "source": [
    "a = int(input(\"enter the values of a: \"))"
   ]
  },
  {
   "cell_type": "code",
   "execution_count": 6,
   "id": "65930c17",
   "metadata": {},
   "outputs": [
    {
     "data": {
      "text/plain": [
       "int"
      ]
     },
     "execution_count": 6,
     "metadata": {},
     "output_type": "execute_result"
    }
   ],
   "source": [
    "type(a)"
   ]
  },
  {
   "cell_type": "code",
   "execution_count": 20,
   "id": "7c9ac0e8",
   "metadata": {},
   "outputs": [
    {
     "name": "stdout",
     "output_type": "stream",
     "text": [
      "20\n"
     ]
    }
   ],
   "source": [
    "a = print(int(a))"
   ]
  },
  {
   "cell_type": "code",
   "execution_count": 18,
   "id": "e99548fe",
   "metadata": {},
   "outputs": [
    {
     "name": "stdout",
     "output_type": "stream",
     "text": [
      "enter the floating value: 20.5\n"
     ]
    }
   ],
   "source": [
    "b = float(input(\"enter the floating value: \"))"
   ]
  },
  {
   "cell_type": "code",
   "execution_count": 19,
   "id": "0b92e251",
   "metadata": {},
   "outputs": [
    {
     "data": {
      "text/plain": [
       "float"
      ]
     },
     "execution_count": 19,
     "metadata": {},
     "output_type": "execute_result"
    }
   ],
   "source": [
    "type(b)"
   ]
  },
  {
   "cell_type": "code",
   "execution_count": 17,
   "id": "f7f24fac",
   "metadata": {},
   "outputs": [
    {
     "name": "stdout",
     "output_type": "stream",
     "text": [
      "20.5\n"
     ]
    }
   ],
   "source": [
    "b = print (float(20.5))"
   ]
  },
  {
   "cell_type": "code",
   "execution_count": 14,
   "id": "04cc9c3f",
   "metadata": {},
   "outputs": [
    {
     "name": "stdout",
     "output_type": "stream",
     "text": [
      "20\n"
     ]
    }
   ],
   "source": [
    "c = print(str(20))"
   ]
  },
  {
   "cell_type": "markdown",
   "id": "f6244f80",
   "metadata": {},
   "source": [
    "# 10. Why does this expression cause an error? how can you fix it ?\n",
    "  'I have eaten' + 99 + 'burritos'"
   ]
  },
  {
   "cell_type": "code",
   "execution_count": 24,
   "id": "ed038bf6",
   "metadata": {},
   "outputs": [
    {
     "name": "stdout",
     "output_type": "stream",
     "text": [
      "I have eaten  99  burritos\n"
     ]
    }
   ],
   "source": [
    "print('I have eaten ' + ' 99 ' + ' burritos')"
   ]
  },
  {
   "cell_type": "code",
   "execution_count": 23,
   "id": "9f60b37b",
   "metadata": {},
   "outputs": [
    {
     "name": "stdout",
     "output_type": "stream",
     "text": [
      "I have eaten 99 burritos\n"
     ]
    }
   ],
   "source": [
    "print('I have eaten ' + str(99) + ' burritos')"
   ]
  },
  {
   "cell_type": "code",
   "execution_count": null,
   "id": "f9c1eb7c",
   "metadata": {},
   "outputs": [],
   "source": []
  }
 ],
 "metadata": {
  "kernelspec": {
   "display_name": "Python 3 (ipykernel)",
   "language": "python",
   "name": "python3"
  },
  "language_info": {
   "codemirror_mode": {
    "name": "ipython",
    "version": 3
   },
   "file_extension": ".py",
   "mimetype": "text/x-python",
   "name": "python",
   "nbconvert_exporter": "python",
   "pygments_lexer": "ipython3",
   "version": "3.9.7"
  }
 },
 "nbformat": 4,
 "nbformat_minor": 5
}
