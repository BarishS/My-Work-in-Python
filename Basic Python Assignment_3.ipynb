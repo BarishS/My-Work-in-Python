{
 "cells": [
  {
   "cell_type": "markdown",
   "id": "b5a6b946",
   "metadata": {},
   "source": [
    "# Why are function advantageous to have in your programs?"
   ]
  },
  {
   "cell_type": "markdown",
   "id": "c50e7622",
   "metadata": {},
   "source": [
    "Functions help break our program into smaller and modular chunks.As our program grows larger and larger,\n",
    "functions make it more organized and manageable.It avoids repetition and makes code reusable."
   ]
  },
  {
   "cell_type": "code",
   "execution_count": 31,
   "id": "40334e03",
   "metadata": {},
   "outputs": [
    {
     "name": "stdout",
     "output_type": "stream",
     "text": [
      "set is not avalable in given data\n"
     ]
    }
   ],
   "source": [
    "#code without function\n",
    "a=[{1,2,3,4,5,6,8,9,10},55,56,5,5,68,\"sfifbn\",[1,2,3,4,5,6],(1,2,3,4,5,6,55)]         \n",
    "for i in a:\n",
    "    if i==int:\n",
    "        print(i)\n",
    "else:\n",
    "    print(\"set is not avalable in given data\")\n",
    "        \n",
    "    \n",
    "    "
   ]
  },
  {
   "cell_type": "code",
   "execution_count": 28,
   "id": "202d7657",
   "metadata": {},
   "outputs": [],
   "source": [
    "#code without function\n",
    "\n",
    "def slising(*args):\n",
    "    l=[]\n",
    "    for i in args:\n",
    "        if i == int:\n",
    "            l.append(i)\n",
    "    return l\n",
    "\n"
   ]
  },
  {
   "cell_type": "code",
   "execution_count": 29,
   "id": "8edec845",
   "metadata": {},
   "outputs": [
    {
     "data": {
      "text/plain": [
       "[]"
      ]
     },
     "execution_count": 29,
     "metadata": {},
     "output_type": "execute_result"
    }
   ],
   "source": [
    "slising(1,2,3,4,5,6,\"hnth\")"
   ]
  },
  {
   "cell_type": "markdown",
   "id": "e5450a13",
   "metadata": {},
   "source": [
    "# When does code in function run: When its specified and when its called.?"
   ]
  },
  {
   "cell_type": "markdown",
   "id": "c1e14e38",
   "metadata": {},
   "source": [
    "The Code in function exacutes when the function is called,not when function is define in code."
   ]
  },
  {
   "cell_type": "code",
   "execution_count": 9,
   "id": "152d4a47",
   "metadata": {},
   "outputs": [],
   "source": [
    "def test1(a,b):\n",
    "    '''Addition of two numbers'''\n",
    "    try:\n",
    "        total= a + b\n",
    "        return total\n",
    "    except Exception as bb:\n",
    "        print(\"Given value are not correct : \", bb)"
   ]
  },
  {
   "cell_type": "code",
   "execution_count": 10,
   "id": "943ed52e",
   "metadata": {},
   "outputs": [
    {
     "data": {
      "text/plain": [
       "30"
      ]
     },
     "execution_count": 10,
     "metadata": {},
     "output_type": "execute_result"
    }
   ],
   "source": [
    "test1(10,20)"
   ]
  },
  {
   "cell_type": "markdown",
   "id": "65a84cf7",
   "metadata": {},
   "source": [
    "# What statement create a function?"
   ]
  },
  {
   "cell_type": "markdown",
   "id": "8f8d86d7",
   "metadata": {},
   "source": [
    "The def statement create a function."
   ]
  },
  {
   "cell_type": "code",
   "execution_count": 11,
   "id": "5bbb6726",
   "metadata": {},
   "outputs": [],
   "source": [
    "def division(a,b):\n",
    "    '''Division of two numbers'''\n",
    "    try:\n",
    "        Division_value=a/b\n",
    "        return Division_value\n",
    "    except Exception as aa:\n",
    "        print(\"Given values are not correct: \", aa)"
   ]
  },
  {
   "cell_type": "code",
   "execution_count": 12,
   "id": "f07599da",
   "metadata": {},
   "outputs": [
    {
     "data": {
      "text/plain": [
       "5.0"
      ]
     },
     "execution_count": 12,
     "metadata": {},
     "output_type": "execute_result"
    }
   ],
   "source": [
    "division(10,2)"
   ]
  },
  {
   "cell_type": "markdown",
   "id": "7d2ef9f1",
   "metadata": {},
   "source": [
    "# What is the difference between function and function call?"
   ]
  },
  {
   "cell_type": "markdown",
   "id": "669a8dfe",
   "metadata": {},
   "source": [
    "The Function consist of the def statement and code in its def clause.\n",
    "The function call means calling the function,unless we dont call the function there is no use of that function.\n",
    "A function is as procedure to achine a perticular result while function call is using that function to achive that task."
   ]
  },
  {
   "cell_type": "code",
   "execution_count": 19,
   "id": "c476b90d",
   "metadata": {},
   "outputs": [],
   "source": [
    "#Function define\n",
    "def function(*args):\n",
    "    try:\n",
    "        l=[]\n",
    "        for i in args:\n",
    "            l.append(i)\n",
    "        return l\n",
    "    \n",
    "    except Exception as Functio_1:\n",
    "        \n",
    "        print(\"Exception gives: \", Functio_1)\n",
    "        \n",
    "    else:\n",
    "        print(\"check the program \")\n",
    "        "
   ]
  },
  {
   "cell_type": "code",
   "execution_count": 20,
   "id": "4791f246",
   "metadata": {},
   "outputs": [
    {
     "data": {
      "text/plain": [
       "[1, 2, 3, 4, 5, 6, 7, 8, 9, 'erbtubru']"
      ]
     },
     "execution_count": 20,
     "metadata": {},
     "output_type": "execute_result"
    }
   ],
   "source": [
    "function(1,2,3,4,5,6,7,8,9,\"erbtubru\") #function call"
   ]
  },
  {
   "cell_type": "markdown",
   "id": "36eb40c7",
   "metadata": {},
   "source": [
    "# How many Globle and local scopes are there in python program?"
   ]
  },
  {
   "cell_type": "markdown",
   "id": "c6fc4327",
   "metadata": {},
   "source": [
    "The scope of global variables is the entire program, whereas the scope of local variable is limited to the function where \n",
    "it is defined.\n",
    "There is one global and local scope is created whenever function is called."
   ]
  },
  {
   "cell_type": "markdown",
   "id": "cd743692",
   "metadata": {},
   "source": [
    "# What happens to variable in local scope when function call returns?"
   ]
  },
  {
   "cell_type": "markdown",
   "id": "d96023b1",
   "metadata": {},
   "source": [
    "When function return the local scope is destroyed and all the units in it are forgotten."
   ]
  },
  {
   "cell_type": "code",
   "execution_count": 21,
   "id": "1a41a2da",
   "metadata": {},
   "outputs": [],
   "source": [
    "a=10\n",
    "def local_scope(a):\n",
    "    a=15\n",
    "    return a"
   ]
  },
  {
   "cell_type": "code",
   "execution_count": 22,
   "id": "a5825c3d",
   "metadata": {},
   "outputs": [
    {
     "data": {
      "text/plain": [
       "15"
      ]
     },
     "execution_count": 22,
     "metadata": {},
     "output_type": "execute_result"
    }
   ],
   "source": [
    "local_scope(20)"
   ]
  },
  {
   "cell_type": "markdown",
   "id": "5e02615c",
   "metadata": {},
   "source": [
    "# What is the concept of return value? it is possible to have return value in an      expression?"
   ]
  },
  {
   "cell_type": "markdown",
   "id": "521feb20",
   "metadata": {},
   "source": [
    "The return vlues is the value function call evaluates to, Like any value return value can be used as a part of an expression."
   ]
  },
  {
   "cell_type": "code",
   "execution_count": null,
   "id": "a1e9d618",
   "metadata": {},
   "outputs": [],
   "source": []
  },
  {
   "cell_type": "markdown",
   "id": "cb372e2c",
   "metadata": {},
   "source": [
    "# If function does not have return statement,what is the return value of a call to    that function?"
   ]
  },
  {
   "cell_type": "markdown",
   "id": "e1d1ee74",
   "metadata": {},
   "source": [
    "When there is no return statement in functon than, when we call that function it will give None return value."
   ]
  },
  {
   "cell_type": "code",
   "execution_count": 29,
   "id": "2bee5e62",
   "metadata": {},
   "outputs": [],
   "source": [
    "def func1(a):\n",
    "    try:\n",
    "        print(\"What is your name: \", a)\n",
    "           \n",
    "    except Exception as xx:\n",
    "        pritn(\"please enter your name: \", xx)\n",
    "        \n",
    "    else:\n",
    "        print(\"Done,Thank you. \")"
   ]
  },
  {
   "cell_type": "code",
   "execution_count": 30,
   "id": "9a5eeea7",
   "metadata": {},
   "outputs": [
    {
     "name": "stdout",
     "output_type": "stream",
     "text": [
      "What is your name:  Barish\n",
      "Done,Thank you. \n"
     ]
    }
   ],
   "source": [
    "func1(\"Barish\")"
   ]
  },
  {
   "cell_type": "code",
   "execution_count": 33,
   "id": "01f94d69",
   "metadata": {},
   "outputs": [
    {
     "name": "stdout",
     "output_type": "stream",
     "text": [
      "What is your name:  10\n",
      "Done,Thank you. \n"
     ]
    },
    {
     "data": {
      "text/plain": [
       "NoneType"
      ]
     },
     "execution_count": 33,
     "metadata": {},
     "output_type": "execute_result"
    }
   ],
   "source": [
    "type(func1(a))"
   ]
  },
  {
   "cell_type": "markdown",
   "id": "16be70a0",
   "metadata": {},
   "source": [
    "# How do you make a function varible refer to make a globle variable?"
   ]
  },
  {
   "cell_type": "markdown",
   "id": "5fb037f4",
   "metadata": {},
   "source": [
    "The global statement will force a variable in function to refer globle variable."
   ]
  },
  {
   "cell_type": "code",
   "execution_count": null,
   "id": "e94f4707",
   "metadata": {},
   "outputs": [],
   "source": []
  },
  {
   "cell_type": "markdown",
   "id": "b218ebc1",
   "metadata": {},
   "source": [
    "# What is the data type of None?"
   ]
  },
  {
   "cell_type": "markdown",
   "id": "1c0d0aed",
   "metadata": {},
   "source": [
    "The data type of NOne is Nonetype."
   ]
  },
  {
   "cell_type": "code",
   "execution_count": 34,
   "id": "35202003",
   "metadata": {},
   "outputs": [
    {
     "data": {
      "text/plain": [
       "NoneType"
      ]
     },
     "execution_count": 34,
     "metadata": {},
     "output_type": "execute_result"
    }
   ],
   "source": [
    "type(None)"
   ]
  },
  {
   "cell_type": "markdown",
   "id": "8cc04b6c",
   "metadata": {},
   "source": [
    "# What does the sentence import areallyourpetsnamederic do?"
   ]
  },
  {
   "cell_type": "markdown",
   "id": "b979631e",
   "metadata": {},
   "source": [
    "When we try to import areallyourpetsnamederic name module,\n",
    "it will try to import that specific named module in the python complier."
   ]
  },
  {
   "cell_type": "code",
   "execution_count": 35,
   "id": "028ef5b7",
   "metadata": {},
   "outputs": [
    {
     "ename": "ModuleNotFoundError",
     "evalue": "No module named 'aerallyourpetsnamederic'",
     "output_type": "error",
     "traceback": [
      "\u001b[1;31m---------------------------------------------------------------------------\u001b[0m",
      "\u001b[1;31mModuleNotFoundError\u001b[0m                       Traceback (most recent call last)",
      "\u001b[1;32mC:\\Users\\BARISH~1\\AppData\\Local\\Temp/ipykernel_8548/2425410980.py\u001b[0m in \u001b[0;36m<module>\u001b[1;34m\u001b[0m\n\u001b[1;32m----> 1\u001b[1;33m \u001b[1;32mimport\u001b[0m \u001b[0maerallyourpetsnamederic\u001b[0m\u001b[1;33m\u001b[0m\u001b[1;33m\u001b[0m\u001b[0m\n\u001b[0m",
      "\u001b[1;31mModuleNotFoundError\u001b[0m: No module named 'aerallyourpetsnamederic'"
     ]
    }
   ],
   "source": [
    "import aerallyourpetsnamederic"
   ]
  },
  {
   "cell_type": "markdown",
   "id": "7553df53",
   "metadata": {},
   "source": [
    "# If we have bacon() function in spam module,what would you call it after              importing spam?"
   ]
  },
  {
   "cell_type": "markdown",
   "id": "49109c03",
   "metadata": {},
   "source": [
    "This function can be called with spam.bacon()"
   ]
  },
  {
   "cell_type": "code",
   "execution_count": null,
   "id": "2a66b4d9",
   "metadata": {},
   "outputs": [],
   "source": []
  },
  {
   "cell_type": "markdown",
   "id": "c14cb206",
   "metadata": {},
   "source": [
    "# What can you do to save programme from crashing in it encounters an error?"
   ]
  },
  {
   "cell_type": "markdown",
   "id": "24b2ebdb",
   "metadata": {},
   "source": [
    "To save the programme from crashing we can use try and except statement."
   ]
  },
  {
   "cell_type": "code",
   "execution_count": 36,
   "id": "b486a1d5",
   "metadata": {},
   "outputs": [],
   "source": [
    "def division(a,b):\n",
    "    '''Division of two numbers'''\n",
    "    try:\n",
    "        Division_value=a/b\n",
    "        return Division_value\n",
    "    except Exception as aa:\n",
    "        print(\"Given values are not correct: \", aa)\n",
    "        "
   ]
  },
  {
   "cell_type": "code",
   "execution_count": 38,
   "id": "cc2b6f61",
   "metadata": {},
   "outputs": [
    {
     "name": "stdout",
     "output_type": "stream",
     "text": [
      "Given values are not correct:  division by zero\n"
     ]
    }
   ],
   "source": [
    "division(10,0)"
   ]
  },
  {
   "cell_type": "code",
   "execution_count": null,
   "id": "6b9fa097",
   "metadata": {},
   "outputs": [],
   "source": []
  },
  {
   "cell_type": "markdown",
   "id": "3649f9d5",
   "metadata": {},
   "source": [
    "# What is purpose of the try clause? What is the purpose of except clause ?"
   ]
  },
  {
   "cell_type": "markdown",
   "id": "db36f210",
   "metadata": {},
   "source": [
    "The code could potentially cause an  error goes in try clause.\n",
    "The code that excecute if an error goes in except clause."
   ]
  },
  {
   "cell_type": "code",
   "execution_count": 8,
   "id": "feeabe92",
   "metadata": {},
   "outputs": [],
   "source": [
    "def try_except(*args):\n",
    "    try:\n",
    "        for i in args:\n",
    "            if i == int:\n",
    "                i = i + 1\n",
    "                print(i)\n",
    "    except:\n",
    "        print(\"given input dont have int value, please check\")"
   ]
  },
  {
   "cell_type": "code",
   "execution_count": 9,
   "id": "fc3d47ef",
   "metadata": {},
   "outputs": [],
   "source": [
    "try_except(1,2,3,4,5,6,\"fhoio\",\"tuomomo\")"
   ]
  },
  {
   "cell_type": "code",
   "execution_count": null,
   "id": "ae7c5ded",
   "metadata": {},
   "outputs": [],
   "source": []
  }
 ],
 "metadata": {
  "kernelspec": {
   "display_name": "Python 3 (ipykernel)",
   "language": "python",
   "name": "python3"
  },
  "language_info": {
   "codemirror_mode": {
    "name": "ipython",
    "version": 3
   },
   "file_extension": ".py",
   "mimetype": "text/x-python",
   "name": "python",
   "nbconvert_exporter": "python",
   "pygments_lexer": "ipython3",
   "version": "3.9.7"
  }
 },
 "nbformat": 4,
 "nbformat_minor": 5
}
