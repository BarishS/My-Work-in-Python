{
 "cells": [
  {
   "cell_type": "markdown",
   "id": "a6b566cb",
   "metadata": {},
   "source": [
    "# 1. What does an empty dictionary's code look like?"
   ]
  },
  {
   "cell_type": "code",
   "execution_count": 1,
   "id": "05d3edd5",
   "metadata": {},
   "outputs": [],
   "source": [
    "d={}"
   ]
  },
  {
   "cell_type": "markdown",
   "id": "78c715f0",
   "metadata": {},
   "source": [
    "# 2. What is value of dictionary with the key 'foo' and value 42 ?"
   ]
  },
  {
   "cell_type": "code",
   "execution_count": 6,
   "id": "2e849883",
   "metadata": {},
   "outputs": [],
   "source": [
    "d1={\"foo\":42}"
   ]
  },
  {
   "cell_type": "code",
   "execution_count": 7,
   "id": "0bcff455",
   "metadata": {},
   "outputs": [
    {
     "data": {
      "text/plain": [
       "{'foo': 42}"
      ]
     },
     "execution_count": 7,
     "metadata": {},
     "output_type": "execute_result"
    }
   ],
   "source": [
    "d1"
   ]
  },
  {
   "cell_type": "code",
   "execution_count": 8,
   "id": "26e11739",
   "metadata": {},
   "outputs": [
    {
     "data": {
      "text/plain": [
       "dict_values([42])"
      ]
     },
     "execution_count": 8,
     "metadata": {},
     "output_type": "execute_result"
    }
   ],
   "source": [
    "d1.values()"
   ]
  },
  {
   "cell_type": "markdown",
   "id": "aefa5f43",
   "metadata": {},
   "source": [
    "# 3. What is the most significant distinction between dictionary and a list ?"
   ]
  },
  {
   "cell_type": "markdown",
   "id": "5f870122",
   "metadata": {},
   "source": [
    "Dictionary always give 'key' and 'value' pair formate. Items stored in dictionary are unordered.\n",
    "list does not req. to give 'key' and 'value' pair formate.Items stored in list are ordered."
   ]
  },
  {
   "cell_type": "markdown",
   "id": "582021fa",
   "metadata": {},
   "source": [
    "# 4. What happen if you try to access spam ['foo'] if spam is {'bar':100} ?"
   ]
  },
  {
   "cell_type": "code",
   "execution_count": 9,
   "id": "5d629fe2",
   "metadata": {},
   "outputs": [],
   "source": [
    "spam = {'bar':100}"
   ]
  },
  {
   "cell_type": "code",
   "execution_count": 12,
   "id": "1a5c9e77",
   "metadata": {},
   "outputs": [
    {
     "ename": "KeyError",
     "evalue": "'foo'",
     "output_type": "error",
     "traceback": [
      "\u001b[1;31m---------------------------------------------------------------------------\u001b[0m",
      "\u001b[1;31mKeyError\u001b[0m                                  Traceback (most recent call last)",
      "\u001b[1;32mC:\\Users\\BARISH~1\\AppData\\Local\\Temp/ipykernel_15096/625894234.py\u001b[0m in \u001b[0;36m<module>\u001b[1;34m\u001b[0m\n\u001b[1;32m----> 1\u001b[1;33m \u001b[0mspam\u001b[0m\u001b[1;33m[\u001b[0m\u001b[1;34m'foo'\u001b[0m\u001b[1;33m]\u001b[0m \u001b[1;31m# keyError\u001b[0m\u001b[1;33m\u001b[0m\u001b[1;33m\u001b[0m\u001b[0m\n\u001b[0m",
      "\u001b[1;31mKeyError\u001b[0m: 'foo'"
     ]
    }
   ],
   "source": [
    "spam['foo'] # keyError"
   ]
  },
  {
   "cell_type": "markdown",
   "id": "71baf62d",
   "metadata": {},
   "source": [
    "# 5. If dictionary stored in spam,What is difference between the expressions             'cat' in spam and 'cat' in spam.keys() ?"
   ]
  },
  {
   "cell_type": "code",
   "execution_count": 18,
   "id": "7e23efdb",
   "metadata": {},
   "outputs": [],
   "source": [
    "spam = {'cat': 'cat' }"
   ]
  },
  {
   "cell_type": "code",
   "execution_count": 14,
   "id": "04188d3e",
   "metadata": {},
   "outputs": [
    {
     "data": {
      "text/plain": [
       "{'cat': 'cat'}"
      ]
     },
     "execution_count": 14,
     "metadata": {},
     "output_type": "execute_result"
    }
   ],
   "source": [
    "spam"
   ]
  },
  {
   "cell_type": "code",
   "execution_count": 19,
   "id": "26578464",
   "metadata": {},
   "outputs": [
    {
     "data": {
      "text/plain": [
       "True"
      ]
     },
     "execution_count": 19,
     "metadata": {},
     "output_type": "execute_result"
    }
   ],
   "source": [
    "'cat' in spam"
   ]
  },
  {
   "cell_type": "code",
   "execution_count": 20,
   "id": "61a0ea49",
   "metadata": {},
   "outputs": [
    {
     "data": {
      "text/plain": [
       "True"
      ]
     },
     "execution_count": 20,
     "metadata": {},
     "output_type": "execute_result"
    }
   ],
   "source": [
    "'cat' in spam.keys()"
   ]
  },
  {
   "cell_type": "markdown",
   "id": "07c152f4",
   "metadata": {},
   "source": [
    "# 6. If dictionary stored in spam,What is difference between the expressions              'cat' in spam and 'cat' in spam.values() ?\n",
    "    "
   ]
  },
  {
   "cell_type": "code",
   "execution_count": 21,
   "id": "04f98aba",
   "metadata": {},
   "outputs": [],
   "source": [
    "spam = {'cat': 'cat' }"
   ]
  },
  {
   "cell_type": "code",
   "execution_count": 22,
   "id": "20ad8d10",
   "metadata": {},
   "outputs": [
    {
     "data": {
      "text/plain": [
       "True"
      ]
     },
     "execution_count": 22,
     "metadata": {},
     "output_type": "execute_result"
    }
   ],
   "source": [
    "'cat' in spam"
   ]
  },
  {
   "cell_type": "code",
   "execution_count": 23,
   "id": "d2849e99",
   "metadata": {},
   "outputs": [
    {
     "data": {
      "text/plain": [
       "True"
      ]
     },
     "execution_count": 23,
     "metadata": {},
     "output_type": "execute_result"
    }
   ],
   "source": [
    "'cat' in spam.values()"
   ]
  },
  {
   "cell_type": "markdown",
   "id": "d6443a1b",
   "metadata": {},
   "source": [
    "# 7. What is shortcut for the following code ?\n",
    "\n",
    "        if 'color'not in spam:\n",
    "        spam['color'] = 'black'\n"
   ]
  },
  {
   "cell_type": "code",
   "execution_count": 24,
   "id": "6e844e9d",
   "metadata": {},
   "outputs": [],
   "source": [
    "spam = {\"color_1\":\"blue\",\"color_2\":\" white \"}"
   ]
  },
  {
   "cell_type": "code",
   "execution_count": 25,
   "id": "c87159bd",
   "metadata": {},
   "outputs": [],
   "source": [
    "spam[\"color_1\"] = 'black'"
   ]
  },
  {
   "cell_type": "code",
   "execution_count": 26,
   "id": "ae1e8bef",
   "metadata": {},
   "outputs": [
    {
     "data": {
      "text/plain": [
       "'green'"
      ]
     },
     "execution_count": 26,
     "metadata": {},
     "output_type": "execute_result"
    }
   ],
   "source": [
    "spam.setdefault(\"color_3\", 'green')"
   ]
  },
  {
   "cell_type": "code",
   "execution_count": 27,
   "id": "0226b331",
   "metadata": {},
   "outputs": [
    {
     "data": {
      "text/plain": [
       "{'color_1': 'black', 'color_2': ' white ', 'color_3': 'green'}"
      ]
     },
     "execution_count": 27,
     "metadata": {},
     "output_type": "execute_result"
    }
   ],
   "source": [
    "spam"
   ]
  },
  {
   "cell_type": "markdown",
   "id": "989b83c5",
   "metadata": {},
   "source": [
    "# 8. How do you \"pritty print\" dictionary values using which module and                    function?"
   ]
  },
  {
   "cell_type": "code",
   "execution_count": null,
   "id": "832513aa",
   "metadata": {},
   "outputs": [],
   "source": [
    "pprint.pprint()"
   ]
  }
 ],
 "metadata": {
  "kernelspec": {
   "display_name": "Python 3 (ipykernel)",
   "language": "python",
   "name": "python3"
  },
  "language_info": {
   "codemirror_mode": {
    "name": "ipython",
    "version": 3
   },
   "file_extension": ".py",
   "mimetype": "text/x-python",
   "name": "python",
   "nbconvert_exporter": "python",
   "pygments_lexer": "ipython3",
   "version": "3.9.7"
  }
 },
 "nbformat": 4,
 "nbformat_minor": 5
}
