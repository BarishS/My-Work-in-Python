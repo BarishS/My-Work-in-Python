{
 "cells": [
  {
   "cell_type": "markdown",
   "id": "95dd106c",
   "metadata": {},
   "source": [
    "# print 'hello world'"
   ]
  },
  {
   "cell_type": "code",
   "execution_count": 1,
   "id": "7c2ee3cc",
   "metadata": {},
   "outputs": [
    {
     "name": "stdout",
     "output_type": "stream",
     "text": [
      "Hello World\n"
     ]
    }
   ],
   "source": [
    "\n",
    "print(\"Hello World\")"
   ]
  },
  {
   "cell_type": "markdown",
   "id": "0e5fc97a",
   "metadata": {},
   "source": [
    "# finding data type of variables"
   ]
  },
  {
   "cell_type": "code",
   "execution_count": 4,
   "id": "deef5ff1",
   "metadata": {},
   "outputs": [
    {
     "name": "stdout",
     "output_type": "stream",
     "text": [
      "data typr of a:  <class 'str'> barish\n",
      "data typr of b:  <class 'int'> 10\n",
      "data typr of c:  <class 'float'> 10.5\n",
      "data typr of d:  <class 'complex'> (5+5j)\n"
     ]
    }
   ],
   "source": [
    "\n",
    "a=\"barish\"\n",
    "b=10\n",
    "c=10.5\n",
    "d=5+5j\n",
    "print(\"data typr of a: \",type(a), a)\n",
    "print(\"data typr of b: \",type(b), b)\n",
    "print(\"data typr of c: \",type(c), c)\n",
    "print(\"data typr of d: \",type(d), d)"
   ]
  },
  {
   "cell_type": "markdown",
   "id": "53e8a6d8",
   "metadata": {},
   "source": [
    "# taking inputs from user"
   ]
  },
  {
   "cell_type": "code",
   "execution_count": 17,
   "id": "2e397b58",
   "metadata": {},
   "outputs": [
    {
     "name": "stdout",
     "output_type": "stream",
     "text": [
      "student_name : barish\n",
      "ID : 101\n",
      "Higher_ED: BE\n",
      "Persentage : 100\n"
     ]
    }
   ],
   "source": [
    "\n",
    "student_name = input(\"student_name : \")\n",
    "ID=int(input(\"ID : \"))\n",
    "higher_ED=input(\"Higher_ED: \")\n",
    "persentage=float(input(\"Persentage : \"))"
   ]
  },
  {
   "cell_type": "markdown",
   "id": "eea3e86a",
   "metadata": {},
   "source": [
    "# print python version using python code"
   ]
  },
  {
   "cell_type": "code",
   "execution_count": 18,
   "id": "abb5acb1",
   "metadata": {},
   "outputs": [
    {
     "name": "stdout",
     "output_type": "stream",
     "text": [
      "Python version :  3.9.7 (default, Sep 16 2021, 16:59:28) [MSC v.1916 64 bit (AMD64)]\n"
     ]
    }
   ],
   "source": [
    "\n",
    "\n",
    "import sys\n",
    "print(\"Python version : \", sys.version)"
   ]
  },
  {
   "cell_type": "markdown",
   "id": "53aff3de",
   "metadata": {},
   "source": [
    "# Write a program which take floating value as input and perform multiplication and addion operation os those values"
   ]
  },
  {
   "cell_type": "code",
   "execution_count": 20,
   "id": "eb561f47",
   "metadata": {},
   "outputs": [
    {
     "name": "stdout",
     "output_type": "stream",
     "text": [
      "Enter the value of a: 10.5\n",
      "Enter the value of b: 10.5\n",
      "value of Multiplication of a and b is :  110.25\n",
      "value of addition of a and b is :  21.0\n"
     ]
    }
   ],
   "source": [
    "\n",
    "\n",
    "a= float(input(\"Enter the value of a: \"))\n",
    "b =float(input(\"Enter the value of b: \"))\n",
    "c =a*b  #multiplication operation\n",
    "print(\"value of Multiplication of a and b is : \", c)\n",
    "\n",
    "d =a+b\n",
    "print(\"value of addition of a and b is : \", d)"
   ]
  },
  {
   "cell_type": "markdown",
   "id": "19a4e14a",
   "metadata": {},
   "source": [
    "# Write a program using class which take floating value as input and perform multiplication and addion operation os those values"
   ]
  },
  {
   "cell_type": "code",
   "execution_count": 22,
   "id": "a498f44f",
   "metadata": {},
   "outputs": [],
   "source": [
    "\n",
    "class arithmatic:\n",
    "    def multi(a,b):\n",
    "        '''Write a program which take floating value as input and perform multiplication those values'''\n",
    "        try:\n",
    "            c =a*b\n",
    "            print(\"value of Multiplication of a and b is : \", c)\n",
    "            \n",
    "        except Exception as aa:\n",
    "            print(f\"Error found in try log {aa} \")\n",
    "            \n",
    "    def add(a,b):\n",
    "        '''Write a program which take floating value as input and perform addition those values'''\n",
    "        try:\n",
    "            c=a+b\n",
    "            print(\"value of addition of a and b is : \", c)\n",
    "            \n",
    "        except Exception as ab:\n",
    "            print(f\"Error found in try log {ab} \")\n",
    "            \n",
    "        \n",
    "            "
   ]
  },
  {
   "cell_type": "code",
   "execution_count": 23,
   "id": "51eac6a8",
   "metadata": {},
   "outputs": [],
   "source": [
    "z=arithmatic"
   ]
  },
  {
   "cell_type": "code",
   "execution_count": 25,
   "id": "5dccdd81",
   "metadata": {},
   "outputs": [
    {
     "name": "stdout",
     "output_type": "stream",
     "text": [
      "value of Multiplication of a and b is :  215.25\n"
     ]
    }
   ],
   "source": [
    "z.multi(10.5,20.5)"
   ]
  },
  {
   "cell_type": "code",
   "execution_count": 28,
   "id": "9ec06eb0",
   "metadata": {},
   "outputs": [
    {
     "name": "stdout",
     "output_type": "stream",
     "text": [
      "value of addition of a and b is :  30.5\n"
     ]
    }
   ],
   "source": [
    "z.add(10.5,20)"
   ]
  },
  {
   "cell_type": "markdown",
   "id": "5a14f18a",
   "metadata": {},
   "source": [
    "# Write the program to take the 2 value from the user and perform Modulus and Division(floor) and Power ?"
   ]
  },
  {
   "cell_type": "code",
   "execution_count": 8,
   "id": "561895c8",
   "metadata": {},
   "outputs": [],
   "source": [
    "\n",
    "def arith():\n",
    "    a =int(input(\"Enter First number: \"))\n",
    "    b =int(input(\"Enter second number: \"))\n",
    "    try:\n",
    "        mod = a % b\n",
    "        print(\"Modulus: \", mod)\n",
    "\n",
    "        div = a // b\n",
    "        print(\"Division(floor): \",div)\n",
    "\n",
    "        pow = a ** b\n",
    "        print(\"Power: \",pow)\n",
    "\n",
    "    except Exception as af:\n",
    "        print(f\"Error found in try log {af}\")"
   ]
  },
  {
   "cell_type": "code",
   "execution_count": 9,
   "id": "44a2c97e",
   "metadata": {},
   "outputs": [
    {
     "name": "stdout",
     "output_type": "stream",
     "text": [
      "Enter First number: 10\n",
      "Enter second number: 10\n",
      "Modulus:  0\n",
      "Division(floor):  1\n",
      "Power:  10000000000\n"
     ]
    }
   ],
   "source": [
    "arith()"
   ]
  },
  {
   "cell_type": "markdown",
   "id": "9615815a",
   "metadata": {},
   "source": [
    "# Write a program to accept 2 number and swap them without using 3rd variable."
   ]
  },
  {
   "cell_type": "code",
   "execution_count": 10,
   "id": "1dac6b5f",
   "metadata": {},
   "outputs": [],
   "source": [
    "\n",
    "def swap():\n",
    "    a=int(input(\"Enter the value of a: \"))\n",
    "    b=int(input(\"Enter the value of b: \"))\n",
    "    try:\n",
    "        a=a+b\n",
    "        print(\"value of a: \",a)\n",
    "        b=a+b\n",
    "        print(\"Value of b: \",b)\n",
    "        a=a-b\n",
    "        print(\"value of a: \",a)\n",
    "        \n",
    "        print(\"after swapping value of a: \",a)\n",
    "        print(\"after swapping value of b: \",b)\n",
    "\n",
    "    except Exception as af:\n",
    "        print(f\"Error found in try log {af}\")\n",
    "\n"
   ]
  },
  {
   "cell_type": "code",
   "execution_count": 11,
   "id": "8806c9ae",
   "metadata": {},
   "outputs": [
    {
     "name": "stdout",
     "output_type": "stream",
     "text": [
      "Enter the value of a: 10\n",
      "Enter the value of b: 10\n",
      "value of a:  20\n",
      "Value of b:  30\n",
      "value of a:  -10\n",
      "after swapping value of a:  -10\n",
      "after swapping value of b:  30\n"
     ]
    }
   ],
   "source": [
    "swap()"
   ]
  },
  {
   "cell_type": "markdown",
   "id": "d7957242",
   "metadata": {},
   "source": [
    "# Take a number from user as an input,update the value by adding 10,followed by multiplying by 6 and lastly get floor division by 6"
   ]
  },
  {
   "cell_type": "code",
   "execution_count": 12,
   "id": "6a29ca8c",
   "metadata": {},
   "outputs": [],
   "source": [
    "\n",
    "\n",
    "def operat():\n",
    "    try:\n",
    "        a=int(input(\"Enter the value of a: \"))\n",
    "        \n",
    "        a = a + 10\n",
    "        print(\"Updated value after adding 10 into that : \", a)\n",
    "        \n",
    "        a = a * 6\n",
    "        print(\"Updated value of a after multiplication of 6 : \", a)\n",
    "        \n",
    "        a = a // 6\n",
    "        print(\"Updated value of a after floor division of 6 : \", a)\n",
    "        \n",
    "    except Exception as ad:\n",
    "        print(f\"Error found in try log{af}\")\n",
    "        "
   ]
  },
  {
   "cell_type": "code",
   "execution_count": 13,
   "id": "b1a88081",
   "metadata": {},
   "outputs": [
    {
     "name": "stdout",
     "output_type": "stream",
     "text": [
      "Enter the value of a: 2\n",
      "Updated value after adding 10 into that :  12\n",
      "Updated value of a after multiplication of 6 :  72\n",
      "Updated value of a after floor division of 6 :  12\n"
     ]
    }
   ],
   "source": [
    "operat()"
   ]
  },
  {
   "cell_type": "markdown",
   "id": "04163bd6",
   "metadata": {},
   "source": [
    "# Write a code to find Area of Circle"
   ]
  },
  {
   "cell_type": "code",
   "execution_count": 16,
   "id": "09ada8c9",
   "metadata": {},
   "outputs": [],
   "source": [
    "\n",
    "\n",
    "def area():\n",
    "    PI = 3.14\n",
    "    redius=float(input(\"Enter the redius value: \"))\n",
    "    try:\n",
    "        area = PI * (redius*redius)\n",
    "        \n",
    "        print(\"Area of circle : \", area)\n",
    "        \n",
    "    except Exception as dd:\n",
    "        print(f\"Error found in try log{dd}\")\n",
    "        "
   ]
  },
  {
   "cell_type": "code",
   "execution_count": 19,
   "id": "5525ab99",
   "metadata": {},
   "outputs": [
    {
     "name": "stdout",
     "output_type": "stream",
     "text": [
      "Enter the redius value: 4\n",
      "Area of circle :  50.24\n"
     ]
    }
   ],
   "source": [
    "area()"
   ]
  },
  {
   "cell_type": "markdown",
   "id": "251d86da",
   "metadata": {},
   "source": [
    "# Declear student score in five subject and find out the total of all five subject and how much persentage student got."
   ]
  },
  {
   "cell_type": "code",
   "execution_count": 24,
   "id": "75752c57",
   "metadata": {},
   "outputs": [],
   "source": [
    "\n",
    "\n",
    "def perst():\n",
    "    math=int(input(\"Total marks in maths: \"))\n",
    "    sci=int(input(\"Total marks in science: \"))\n",
    "    hist=int(input(\"Total marks in History: \"))\n",
    "    eng=int(input(\"Total marks in English: \"))\n",
    "    art=int(input(\"Total marks in Art: \"))\n",
    "    try:\n",
    "        Total = math+sci+hist+eng+art\n",
    "        print(\"Total numbers of marks : \", Total)\n",
    "        \n",
    "        persentage = (Total/500) * 100\n",
    "        print(\"Total number of persentage: \", persentage , \"%\")\n",
    "        \n",
    "    except Exception as ar:\n",
    "        print(f\"Error found in try log {ar}\")\n",
    "        "
   ]
  },
  {
   "cell_type": "code",
   "execution_count": 25,
   "id": "5daee6c2",
   "metadata": {},
   "outputs": [
    {
     "name": "stdout",
     "output_type": "stream",
     "text": [
      "Total marks in maths: 50\n",
      "Total marks in science: 60\n",
      "Total marks in History: 55\n",
      "Total marks in English: 100\n",
      "Total marks in Art: 85\n",
      "Total numbers of marks :  350\n",
      "Total number of persentage:  70.0 %\n"
     ]
    }
   ],
   "source": [
    "perst()"
   ]
  },
  {
   "cell_type": "markdown",
   "id": "f3c8d60e",
   "metadata": {},
   "source": [
    "# Write a code to accept 2 numbers and swap them with using 3rd variable."
   ]
  },
  {
   "cell_type": "code",
   "execution_count": 28,
   "id": "96adc4c8",
   "metadata": {},
   "outputs": [],
   "source": [
    "\n",
    "def swap1():\n",
    "    a=int(input(\"Enter the value of a: \"))\n",
    "    b=int(input(\"Enter the value of b: \"))\n",
    "    try:\n",
    "        temp = a\n",
    "        a = b\n",
    "        b = temp\n",
    "        \n",
    "        print(\"After swapping value of a: \", a)\n",
    "        print(\"After swapping value of b: \", b)\n",
    "        \n",
    "    except Exception as ag:\n",
    "        print(f\"Error found in try log{ag}\")\n",
    "        \n"
   ]
  },
  {
   "cell_type": "code",
   "execution_count": 29,
   "id": "e66e30f4",
   "metadata": {},
   "outputs": [
    {
     "name": "stdout",
     "output_type": "stream",
     "text": [
      "Enter the value of a: 10\n",
      "Enter the value of b: 20\n",
      "After swapping value of a:  20\n",
      "After swapping value of b:  10\n"
     ]
    }
   ],
   "source": [
    "swap1()"
   ]
  },
  {
   "cell_type": "markdown",
   "id": "9395f73a",
   "metadata": {},
   "source": [
    "# Declear the value as x =True and y=False and test the condition for  and ,or & not equal and procduce the result."
   ]
  },
  {
   "cell_type": "code",
   "execution_count": 8,
   "id": "2a0cd90e",
   "metadata": {},
   "outputs": [
    {
     "name": "stdout",
     "output_type": "stream",
     "text": [
      "False\n",
      "True\n",
      "True\n"
     ]
    }
   ],
   "source": [
    "x =True\n",
    "y =False\n",
    "\n",
    "try:\n",
    "    a = x and y\n",
    "    print(a)\n",
    "except:\n",
    "    print({\"Error found in try log\"})\n",
    "    \n",
    "try:\n",
    "    a = x or y\n",
    "    print(a)\n",
    "except:\n",
    "    print(\"Error found in try log\")\n",
    "\n",
    "try:\n",
    "    a =x != y\n",
    "    print(a)\n",
    "    \n",
    "except Exception as aa:\n",
    "    print(f\"Error found in try log{aa}\")"
   ]
  },
  {
   "cell_type": "markdown",
   "id": "dda21fbb",
   "metadata": {},
   "source": [
    "# Declear a variable num =10, use short hand operator to increment num by 10, subtract by 5,divide by 3 and multiply by 4"
   ]
  },
  {
   "cell_type": "code",
   "execution_count": 11,
   "id": "c2468a52",
   "metadata": {},
   "outputs": [
    {
     "name": "stdout",
     "output_type": "stream",
     "text": [
      "Increament:  20\n",
      "substraction:  15\n",
      "Division : 5.0\n",
      "Multiplication:  20.0\n"
     ]
    }
   ],
   "source": [
    "num =10\n",
    "\n",
    "num+=10\n",
    "print(\"Increament: \",num)\n",
    "\n",
    "num-= 5\n",
    "print(\"substraction: \",num)\n",
    "\n",
    "num/=3\n",
    "print(\"Division :\", num)\n",
    "\n",
    "num*=4\n",
    "print(\"Multiplication: \", num)"
   ]
  },
  {
   "cell_type": "markdown",
   "id": "3a953b93",
   "metadata": {},
   "source": [
    "# Write a program enter number is Even or odd"
   ]
  },
  {
   "cell_type": "code",
   "execution_count": 6,
   "id": "ba67a62e",
   "metadata": {},
   "outputs": [
    {
     "name": "stdout",
     "output_type": "stream",
     "text": [
      "Enter any number: 2\n",
      "Enter number is Even number:  2\n"
     ]
    }
   ],
   "source": [
    "\n",
    "num = int(input(\"Enter any number: \"))\n",
    "if type(num) == int:\n",
    "    try:\n",
    "        if num%2==0:\n",
    "            print(\"Enter number is Even number: \",num )\n",
    "            \n",
    "        else:\n",
    "            print(\"Enter number is odd number: \",num)\n",
    "                \n",
    "            \n",
    "    \n",
    "    except Exception as ad:\n",
    "        print(f\"Error found in try log{ad}\")\n",
    "            \n",
    "            \n",
    "            \n",
    "else:\n",
    "    print(\"Please enter the number\")\n",
    "        \n",
    "    \n",
    "\n"
   ]
  },
  {
   "cell_type": "markdown",
   "id": "0cb870bf",
   "metadata": {},
   "source": [
    "# Write a program to check enter number is positive, negative or zero"
   ]
  },
  {
   "cell_type": "code",
   "execution_count": 6,
   "id": "6ccdec89",
   "metadata": {},
   "outputs": [
    {
     "name": "stdout",
     "output_type": "stream",
     "text": [
      "Enter the number: -2\n",
      "Enter number is negative \n"
     ]
    }
   ],
   "source": [
    "num =int(input(\"Enter the number: \"))\n",
    "if num> 0:\n",
    "    print(\"Enter number is positive \")\n",
    "    \n",
    "elif num<0:\n",
    "    print(\"Enter number is negative \")\n",
    "    \n",
    "else:\n",
    "    print (\"Enter number is zero\")\n",
    "    "
   ]
  },
  {
   "cell_type": "markdown",
   "id": "ea1eb438",
   "metadata": {},
   "source": [
    "# write a program to check Leap year or not."
   ]
  },
  {
   "cell_type": "code",
   "execution_count": 15,
   "id": "e2d7819a",
   "metadata": {},
   "outputs": [
    {
     "name": "stdout",
     "output_type": "stream",
     "text": [
      "Enter year: 2022\n",
      "2022 is Not Leap Year\n"
     ]
    }
   ],
   "source": [
    "year = int(input(\"Enter year: \"))\n",
    "y= year\n",
    "if (y%4==0) and (y%100!=0) or (y%400==0):\n",
    "    print(year, \"is Leap Year\")\n",
    "    \n",
    "else:\n",
    "    print(year, \"is Not Leap Year\")"
   ]
  },
  {
   "cell_type": "markdown",
   "id": "c64bd1e3",
   "metadata": {},
   "source": [
    "# Write a program to take three input for x,y and z.Then compare and find the largest value among the three number"
   ]
  },
  {
   "cell_type": "code",
   "execution_count": 17,
   "id": "0cdbc1ad",
   "metadata": {},
   "outputs": [
    {
     "name": "stdout",
     "output_type": "stream",
     "text": [
      "Enter the value of a: 10\n",
      "Enter the value of b: 20\n",
      "Enter the value of c: 10\n",
      "20 is the max value\n"
     ]
    }
   ],
   "source": [
    "a=int(input(\"Enter the value of a: \"))\n",
    "b=int(input(\"Enter the value of b: \"))\n",
    "c=int(input(\"Enter the value of c: \"))\n",
    "\n",
    "if a>b and a>c:\n",
    "    print(a, \"is the max value\")\n",
    "    \n",
    "elif b>a and b>c:\n",
    "    print(b, \"is the max value\")\n",
    "    \n",
    "else:\n",
    "    print(c, \"is the max value\")"
   ]
  },
  {
   "cell_type": "markdown",
   "id": "18d13181",
   "metadata": {},
   "source": [
    "# Try to find wheather the alphabet is present in given string or not."
   ]
  },
  {
   "cell_type": "code",
   "execution_count": 11,
   "id": "adfa7549",
   "metadata": {},
   "outputs": [
    {
     "name": "stdout",
     "output_type": "stream",
     "text": [
      "Enter the alphabet to check: b\n",
      "Sorry this alphabet not available in variable\n"
     ]
    }
   ],
   "source": [
    "\n",
    "a=\"Barish\"\n",
    "i =input(\"Enter the alphabet to check: \")\n",
    "if i in a:\n",
    "    print(\"Entered alphabet is available in a variable\")\n",
    "    \n",
    "else:\n",
    "    print(\"Sorry this alphabet not available in variable\")"
   ]
  },
  {
   "cell_type": "markdown",
   "id": "7f83d0ed",
   "metadata": {},
   "source": [
    "# Write a program to calculate area of triangle."
   ]
  },
  {
   "cell_type": "code",
   "execution_count": 16,
   "id": "e466c174",
   "metadata": {},
   "outputs": [
    {
     "name": "stdout",
     "output_type": "stream",
     "text": [
      "Enter the base length value: 5\n",
      "Enter the height length value: 8\n",
      "Area of trangle:  20.0\n"
     ]
    }
   ],
   "source": [
    "base_length=int(input(\"Enter the base length value: \"))\n",
    "height_length=int(input(\"Enter the height length value: \"))\n",
    "\n",
    "area= 1/2 * base_length * height_length\n",
    "\n",
    "print(\"Area of trangle: \", area)"
   ]
  },
  {
   "cell_type": "markdown",
   "id": "afc18819",
   "metadata": {},
   "source": [
    "# Write a program to calculate volume of sphare"
   ]
  },
  {
   "cell_type": "code",
   "execution_count": 18,
   "id": "8d432492",
   "metadata": {},
   "outputs": [
    {
     "name": "stdout",
     "output_type": "stream",
     "text": [
      "Enter the value of radius of sphere: 4\n",
      "volume of sphere :  267.94666666666666\n"
     ]
    }
   ],
   "source": [
    "PI = 3.14\n",
    "radius=float(input(\"Enter the value of radius of sphere: \"))\n",
    "\n",
    "volume = 4/3 * PI * (radius**3)\n",
    "\n",
    "print(\"volume of sphere : \", volume)"
   ]
  },
  {
   "cell_type": "markdown",
   "id": "aa99eb8e",
   "metadata": {},
   "source": [
    "# Write a program  to display the grade given a mark by using following constraint:-\n",
    "\n",
    "Contraint:-\n",
    "75 & above -: A grade\n",
    "60-74 -: B grade\n",
    "35-59 -: c grade\n",
    "Below 35 -: Fail"
   ]
  },
  {
   "cell_type": "code",
   "execution_count": 8,
   "id": "75af313d",
   "metadata": {},
   "outputs": [
    {
     "name": "stdout",
     "output_type": "stream",
     "text": [
      "Enter student name: barish\n",
      "Enter the Persentage : 01\n",
      "Sorry, you failed in Exam better luck next time\n"
     ]
    }
   ],
   "source": [
    "name= input(\"Enter student name: \")\n",
    "pers = int(input(\"Enter the Persentage : \"))\n",
    "\n",
    "if pers >= 75 :\n",
    "    print(f\"congrats , {name} you got A grade\")\n",
    "          \n",
    "elif pers > 60 and pers < 74:\n",
    "          print(f\"congrats , {name} you got B grade\")\n",
    "                \n",
    "elif pers > 35 and pers < 59:\n",
    "                print(f\"congrats , {name} you got C grade\")\n",
    "else:\n",
    "    print(\"Sorry, you failed in Exam better luck next time\")"
   ]
  },
  {
   "cell_type": "markdown",
   "id": "bb44d3b4",
   "metadata": {},
   "source": [
    "# Take the three side for the triangle from the user and check Whether the triangle is equilateral, isoceles or scalene triangle?"
   ]
  },
  {
   "cell_type": "code",
   "execution_count": 11,
   "id": "cea313d3",
   "metadata": {},
   "outputs": [
    {
     "name": "stdout",
     "output_type": "stream",
     "text": [
      "Enter the  x side value: 10\n",
      "Enter the  y side value: 20\n",
      "Enter the  z side value: 30\n",
      "Scalene Trangle\n"
     ]
    }
   ],
   "source": [
    "x = float(input(\"Enter the  x side value: \"))\n",
    "y = float(input(\"Enter the  y side value: \"))\n",
    "z = float(input(\"Enter the  z side value: \"))\n",
    "\n",
    "if x==y==z:\n",
    "    print(\"Equilateral Trangle\")\n",
    "    \n",
    "elif x==y or y== z or x==z:\n",
    "    print(\"Isoceles Trangle\")\n",
    "\n",
    "else:\n",
    "    print(\"Scalene Trangle\")"
   ]
  },
  {
   "cell_type": "code",
   "execution_count": 13,
   "id": "0e64deef",
   "metadata": {},
   "outputs": [
    {
     "name": "stdout",
     "output_type": "stream",
     "text": [
      "22\n"
     ]
    }
   ],
   "source": [
    "for x in range(22,23,24):\n",
    "    print(x)"
   ]
  },
  {
   "cell_type": "markdown",
   "id": "45528fa7",
   "metadata": {},
   "source": [
    "# Write a program to check the number is palindrome or not."
   ]
  },
  {
   "cell_type": "code",
   "execution_count": 14,
   "id": "c6ac72b2",
   "metadata": {},
   "outputs": [
    {
     "name": "stdout",
     "output_type": "stream",
     "text": [
      "Enter the number: 121\n",
      "121 is the palindrome number\n"
     ]
    }
   ],
   "source": [
    "num = int(input(\"Enter the number: \"))\n",
    "rev = 0\n",
    "x = num\n",
    "\n",
    "while(num>0):\n",
    "    rev = (rev*10)+ num % 10\n",
    "    num = num //10\n",
    "if (x == rev):\n",
    "    print(x , \"is the palindrome number\")\n",
    "    \n",
    "else:\n",
    "    print(\"It is not palindrome\")\n"
   ]
  },
  {
   "cell_type": "markdown",
   "id": "6444e486",
   "metadata": {},
   "source": [
    "# WAP  to print the sum of 1st nth natural numbers using while loop"
   ]
  },
  {
   "cell_type": "code",
   "execution_count": 6,
   "id": "e465045e",
   "metadata": {},
   "outputs": [
    {
     "name": "stdout",
     "output_type": "stream",
     "text": [
      "Enter the number: 10\n",
      "The result is 55\n"
     ]
    }
   ],
   "source": [
    "sum = 0 \n",
    "num = int(input(\"Enter the number: \"))\n",
    "while(num>0):\n",
    "    sum += num\n",
    "    num -= 1\n",
    "print(\"The result is\", sum)"
   ]
  },
  {
   "cell_type": "markdown",
   "id": "f6523d41",
   "metadata": {},
   "source": [
    "# WAP to calculating factorial of  given input n using while loop"
   ]
  },
  {
   "cell_type": "code",
   "execution_count": 11,
   "id": "6eca8d7d",
   "metadata": {},
   "outputs": [
    {
     "name": "stdout",
     "output_type": "stream",
     "text": [
      "Enter the value: 5\n",
      "factorial of :  120\n"
     ]
    }
   ],
   "source": [
    "value= int(input(\"Enter the value: \"))\n",
    "fact = 1\n",
    "\n",
    "while(value>0):\n",
    "    fact = fact*value\n",
    "    value = value-1\n",
    "    \n",
    "print(\"factorial of : \",fact)"
   ]
  },
  {
   "cell_type": "markdown",
   "id": "13615e3f",
   "metadata": {},
   "source": [
    "# Print the table of number using while loop"
   ]
  },
  {
   "cell_type": "code",
   "execution_count": 13,
   "id": "9acf4629",
   "metadata": {},
   "outputs": [
    {
     "name": "stdout",
     "output_type": "stream",
     "text": [
      "Enter the number: 5\n",
      "1  +  5  =  5\n",
      "2  +  5  =  10\n",
      "3  +  5  =  15\n",
      "4  +  5  =  20\n",
      "5  +  5  =  25\n",
      "6  +  5  =  30\n",
      "7  +  5  =  35\n",
      "8  +  5  =  40\n",
      "9  +  5  =  45\n",
      "10  +  5  =  50\n"
     ]
    }
   ],
   "source": [
    "table = int(input(\"Enter the number: \"))\n",
    "i =1\n",
    "while(i<=10):\n",
    "    print(i,\" + \", table, \" = \", i * table)\n",
    "    i = i + 1"
   ]
  },
  {
   "cell_type": "markdown",
   "id": "d3e9d43a",
   "metadata": {},
   "source": [
    "# WAP to print 10-1 using while loop"
   ]
  },
  {
   "cell_type": "code",
   "execution_count": 17,
   "id": "5096d4ae",
   "metadata": {},
   "outputs": [
    {
     "name": "stdout",
     "output_type": "stream",
     "text": [
      "10\n",
      "9\n",
      "8\n",
      "7\n",
      "6\n",
      "5\n",
      "4\n",
      "3\n",
      "2\n",
      "1\n"
     ]
    }
   ],
   "source": [
    "count =10\n",
    "while (count>=1):\n",
    "    print(count)\n",
    "    count -= 1\n",
    "    "
   ]
  },
  {
   "cell_type": "markdown",
   "id": "d3dd91af",
   "metadata": {},
   "source": [
    "# wap to reverse a number\n",
    "input =7546\n",
    "output = 6457"
   ]
  },
  {
   "cell_type": "code",
   "execution_count": 20,
   "id": "f7499cf2",
   "metadata": {},
   "outputs": [
    {
     "name": "stdout",
     "output_type": "stream",
     "text": [
      "Enter the number: 7546\n",
      "output :  6457\n"
     ]
    }
   ],
   "source": [
    "num= int(input(\"Enter the number: \"))\n",
    "rev = 0\n",
    "while(num>0):\n",
    "    rev= (rev * 10) + (num % 10)\n",
    "    \n",
    "    num = num // 10\n",
    "    \n",
    "print(\"output : \", rev)"
   ]
  },
  {
   "cell_type": "markdown",
   "id": "c1c763c7",
   "metadata": {},
   "source": [
    "# WAP to find a number is Armstrong or not"
   ]
  },
  {
   "cell_type": "code",
   "execution_count": 59,
   "id": "5219e7f5",
   "metadata": {},
   "outputs": [
    {
     "name": "stdout",
     "output_type": "stream",
     "text": [
      "Enter number: 153\n",
      "153 is Armstrong number\n"
     ]
    }
   ],
   "source": [
    "num = int(input(\"Enter number: \"))\n",
    "sum = 0\n",
    "\n",
    "temp = num\n",
    "while temp >0:\n",
    "    digit =temp %10\n",
    "    sum += digit ** 3\n",
    "    temp //=10\n",
    "if num == sum:\n",
    "    print(num , \"is Armstrong number\")\n",
    "    \n",
    "else:\n",
    "    print(num, \"is not Armstrong number\")"
   ]
  },
  {
   "cell_type": "markdown",
   "id": "e7a7542a",
   "metadata": {},
   "source": [
    "# WAP to check whether the given number is Neon or not"
   ]
  },
  {
   "cell_type": "code",
   "execution_count": 29,
   "id": "32158d9c",
   "metadata": {},
   "outputs": [
    {
     "name": "stdout",
     "output_type": "stream",
     "text": [
      "Enthe number: 9\n",
      "Neon number \n",
      "\n"
     ]
    }
   ],
   "source": [
    "num = int(input(\"Enthe number: \"))\n",
    "sqr =num *num\n",
    "sum_digit_of_sqr = 0\n",
    "while (sqr> 0):\n",
    "    sum_digit_of_sqr =sum_digit_of_sqr + sqr%10\n",
    "    sqr = sqr //10\n",
    "    \n",
    "if (num==sum_digit_of_sqr ):\n",
    "    print(\"Neon number \\n\")\n",
    "    \n",
    "else:\n",
    "    print(\"Not a Neon number \\n\")"
   ]
  },
  {
   "cell_type": "code",
   "execution_count": null,
   "id": "407b4053",
   "metadata": {},
   "outputs": [],
   "source": []
  }
 ],
 "metadata": {
  "kernelspec": {
   "display_name": "Python 3 (ipykernel)",
   "language": "python",
   "name": "python3"
  },
  "language_info": {
   "codemirror_mode": {
    "name": "ipython",
    "version": 3
   },
   "file_extension": ".py",
   "mimetype": "text/x-python",
   "name": "python",
   "nbconvert_exporter": "python",
   "pygments_lexer": "ipython3",
   "version": "3.9.7"
  }
 },
 "nbformat": 4,
 "nbformat_minor": 5
}
