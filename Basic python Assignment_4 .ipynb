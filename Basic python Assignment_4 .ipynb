{
 "cells": [
  {
   "cell_type": "markdown",
   "id": "dbd62c45",
   "metadata": {},
   "source": [
    "# What Exactly is [] ?"
   ]
  },
  {
   "cell_type": "code",
   "execution_count": null,
   "id": "645893ee",
   "metadata": {},
   "outputs": [],
   "source": [
    "[] this indicates the empty list value that contain no items."
   ]
  },
  {
   "cell_type": "markdown",
   "id": "8be76391",
   "metadata": {},
   "source": [
    "# In a list of value stored in variable called spam,how would you assign the            value 'Hello' as the third value.\n",
    "\n",
    "  (Assume [2,4,6,8,10] are in spam)"
   ]
  },
  {
   "cell_type": "code",
   "execution_count": 32,
   "id": "e59aca98",
   "metadata": {},
   "outputs": [],
   "source": [
    "spam = [2,4,6,8,10]"
   ]
  },
  {
   "cell_type": "code",
   "execution_count": 33,
   "id": "017e3480",
   "metadata": {},
   "outputs": [
    {
     "name": "stdout",
     "output_type": "stream",
     "text": [
      "[2, 4, 'Hello', 8, 10]\n"
     ]
    }
   ],
   "source": [
    "spam[2]='Hello'\n",
    "print(spam)\n",
    "        \n"
   ]
  },
  {
   "cell_type": "markdown",
   "id": "3b593f9a",
   "metadata": {},
   "source": [
    "# Lets pretend spam include the list ['a','b','c','d'] for the three quaries."
   ]
  },
  {
   "cell_type": "code",
   "execution_count": null,
   "id": "848a6c14",
   "metadata": {},
   "outputs": [],
   "source": [
    "spam = ['a','b','c','d']"
   ]
  },
  {
   "cell_type": "markdown",
   "id": "5be3cc8e",
   "metadata": {},
   "source": [
    "# What is the value of spam[int(int('3'*2)/11)] ? "
   ]
  },
  {
   "cell_type": "code",
   "execution_count": 35,
   "id": "e1538bc5",
   "metadata": {},
   "outputs": [
    {
     "data": {
      "text/plain": [
       "3.0"
      ]
     },
     "execution_count": 35,
     "metadata": {},
     "output_type": "execute_result"
    }
   ],
   "source": [
    "int('3'*2)/11"
   ]
  },
  {
   "cell_type": "code",
   "execution_count": 36,
   "id": "9bfe202c",
   "metadata": {},
   "outputs": [
    {
     "data": {
      "text/plain": [
       "3"
      ]
     },
     "execution_count": 36,
     "metadata": {},
     "output_type": "execute_result"
    }
   ],
   "source": [
    "int(3)"
   ]
  },
  {
   "cell_type": "code",
   "execution_count": 37,
   "id": "b5f1eecd",
   "metadata": {},
   "outputs": [
    {
     "data": {
      "text/plain": [
       "'d'"
      ]
     },
     "execution_count": 37,
     "metadata": {},
     "output_type": "execute_result"
    }
   ],
   "source": [
    "spam[3] # spam[int(int('3'*2)/11)]"
   ]
  },
  {
   "cell_type": "markdown",
   "id": "f51c6682",
   "metadata": {},
   "source": [
    "# What is the value of spam[-1]"
   ]
  },
  {
   "cell_type": "code",
   "execution_count": 38,
   "id": "e8ea8a23",
   "metadata": {},
   "outputs": [
    {
     "data": {
      "text/plain": [
       "['a', 'b', 'c', 'd']"
      ]
     },
     "execution_count": 38,
     "metadata": {},
     "output_type": "execute_result"
    }
   ],
   "source": [
    "spam"
   ]
  },
  {
   "cell_type": "code",
   "execution_count": 39,
   "id": "7419e832",
   "metadata": {},
   "outputs": [
    {
     "data": {
      "text/plain": [
       "'d'"
      ]
     },
     "execution_count": 39,
     "metadata": {},
     "output_type": "execute_result"
    }
   ],
   "source": [
    "spam[-1] # it will give slicing index of negative 1 value of spam list"
   ]
  },
  {
   "cell_type": "markdown",
   "id": "fa1ff43f",
   "metadata": {},
   "source": [
    "# What is the vlaue of spam[:2]"
   ]
  },
  {
   "cell_type": "code",
   "execution_count": 40,
   "id": "fdb12cbd",
   "metadata": {},
   "outputs": [
    {
     "data": {
      "text/plain": [
       "['a', 'b', 'c', 'd']"
      ]
     },
     "execution_count": 40,
     "metadata": {},
     "output_type": "execute_result"
    }
   ],
   "source": [
    "spam"
   ]
  },
  {
   "cell_type": "code",
   "execution_count": 41,
   "id": "4b967b99",
   "metadata": {},
   "outputs": [
    {
     "data": {
      "text/plain": [
       "['a', 'b']"
      ]
     },
     "execution_count": 41,
     "metadata": {},
     "output_type": "execute_result"
    }
   ],
   "source": [
    "spam[:2] # it will give slicing the index value from 0 to 2 (except the index value 2) in spam list."
   ]
  },
  {
   "cell_type": "markdown",
   "id": "411692ad",
   "metadata": {},
   "source": [
    "# Lets predend bacon has the list[3.14,'cat',11,'cat',True] for the next three              question."
   ]
  },
  {
   "cell_type": "code",
   "execution_count": 42,
   "id": "0371c878",
   "metadata": {},
   "outputs": [],
   "source": [
    "bacon=[3.14,'cat',11,'cat',True]"
   ]
  },
  {
   "cell_type": "markdown",
   "id": "64ad72b2",
   "metadata": {},
   "source": [
    "# What is the value bacon.index('cat')"
   ]
  },
  {
   "cell_type": "code",
   "execution_count": 43,
   "id": "d9364e26",
   "metadata": {},
   "outputs": [
    {
     "data": {
      "text/plain": [
       "1"
      ]
     },
     "execution_count": 43,
     "metadata": {},
     "output_type": "execute_result"
    }
   ],
   "source": [
    "bacon.index('cat') # index function always given the firt instance index value in list "
   ]
  },
  {
   "cell_type": "markdown",
   "id": "fe354620",
   "metadata": {},
   "source": [
    "# How does bacon.append(99) change the look of list value in bacon ?"
   ]
  },
  {
   "cell_type": "code",
   "execution_count": 44,
   "id": "191413db",
   "metadata": {},
   "outputs": [],
   "source": [
    "bacon.append(99)   # .append() function is used to add or append the value at the end in list."
   ]
  },
  {
   "cell_type": "code",
   "execution_count": 45,
   "id": "de34bd41",
   "metadata": {},
   "outputs": [
    {
     "data": {
      "text/plain": [
       "[3.14, 'cat', 11, 'cat', True, 99]"
      ]
     },
     "execution_count": 45,
     "metadata": {},
     "output_type": "execute_result"
    }
   ],
   "source": [
    "bacon"
   ]
  },
  {
   "cell_type": "markdown",
   "id": "44278d1a",
   "metadata": {},
   "source": [
    "# How does bacon.remove('cat') cahnge the look of list value in bacon ?"
   ]
  },
  {
   "cell_type": "code",
   "execution_count": 46,
   "id": "58208a2a",
   "metadata": {},
   "outputs": [
    {
     "data": {
      "text/plain": [
       "[3.14, 'cat', 11, 'cat', True, 99]"
      ]
     },
     "execution_count": 46,
     "metadata": {},
     "output_type": "execute_result"
    }
   ],
   "source": [
    "bacon"
   ]
  },
  {
   "cell_type": "code",
   "execution_count": 47,
   "id": "f61173b5",
   "metadata": {},
   "outputs": [],
   "source": [
    "bacon.remove('cat') # .remove() function is always remove the first repatative value that you want to remove."
   ]
  },
  {
   "cell_type": "code",
   "execution_count": 48,
   "id": "163af89c",
   "metadata": {},
   "outputs": [
    {
     "data": {
      "text/plain": [
       "[3.14, 11, 'cat', True, 99]"
      ]
     },
     "execution_count": 48,
     "metadata": {},
     "output_type": "execute_result"
    }
   ],
   "source": [
    "bacon"
   ]
  },
  {
   "cell_type": "code",
   "execution_count": 49,
   "id": "aa9bb319",
   "metadata": {},
   "outputs": [],
   "source": [
    "bacon.remove('cat')"
   ]
  },
  {
   "cell_type": "code",
   "execution_count": 51,
   "id": "2b7a9073",
   "metadata": {},
   "outputs": [
    {
     "data": {
      "text/plain": [
       "[3.14, 11, True, 99]"
      ]
     },
     "execution_count": 51,
     "metadata": {},
     "output_type": "execute_result"
    }
   ],
   "source": [
    "bacon"
   ]
  },
  {
   "cell_type": "markdown",
   "id": "3e8e05a9",
   "metadata": {},
   "source": [
    "# What are the list concatenation and list replication operator?"
   ]
  },
  {
   "cell_type": "markdown",
   "id": "3f245f1c",
   "metadata": {},
   "source": [
    "The operator for the list concatenation is '+'.\n",
    "The operator for the list replication   is '*'."
   ]
  },
  {
   "cell_type": "markdown",
   "id": "c39d32be",
   "metadata": {},
   "source": [
    "# What is the difference between list methods append() and insert()."
   ]
  },
  {
   "cell_type": "markdown",
   "id": "6465c3e7",
   "metadata": {},
   "source": [
    "List method .append() append or add the new value or req. value at the end of the list by default.\n",
    "List method .insert() insert or add the new or req. value anywhere we want in the list."
   ]
  },
  {
   "cell_type": "code",
   "execution_count": 57,
   "id": "53598325",
   "metadata": {},
   "outputs": [],
   "source": [
    "#code using append() method\n",
    "l=[1,2,3,45,5,6,8,9]\n",
    "def append_method(a):\n",
    "    try:\n",
    "        l.append(a)\n",
    "        return l\n",
    "    \n",
    "    except Exception as AA:\n",
    "        return \"Error in code \", AA\n",
    "    "
   ]
  },
  {
   "cell_type": "code",
   "execution_count": 34,
   "id": "d92eb4c7",
   "metadata": {},
   "outputs": [
    {
     "data": {
      "text/plain": [
       "[1, 2, 3, 45, 5, 6, 8, 9, 'New value']"
      ]
     },
     "execution_count": 34,
     "metadata": {},
     "output_type": "execute_result"
    }
   ],
   "source": [
    "append_method(\"New value\")"
   ]
  },
  {
   "cell_type": "code",
   "execution_count": 56,
   "id": "0cc1f4c4",
   "metadata": {},
   "outputs": [],
   "source": [
    "#code using insert() method\n",
    "l=[1,2,3,45,5,6,8,9]\n",
    "def insert_method(a):\n",
    "    try:\n",
    "        l.insert(5,a)\n",
    "        return l\n",
    "    \n",
    "    except Exception as AA:\n",
    "        return \"Error in code \", AA\n",
    "    \n",
    "    else:\n",
    "        return \"Successfully appended the New value \""
   ]
  },
  {
   "cell_type": "code",
   "execution_count": 43,
   "id": "f3f6326e",
   "metadata": {},
   "outputs": [
    {
     "data": {
      "text/plain": [
       "[1, 2, 3, 45, 5, 'New value', 6, 8, 9]"
      ]
     },
     "execution_count": 43,
     "metadata": {},
     "output_type": "execute_result"
    }
   ],
   "source": [
    "insert_method(\"New value\")"
   ]
  },
  {
   "cell_type": "markdown",
   "id": "a18cfdc4",
   "metadata": {},
   "source": [
    "# What are the two methods of removing items in the list ?"
   ]
  },
  {
   "cell_type": "markdown",
   "id": "1eebd543",
   "metadata": {},
   "source": [
    "remove() list method and del statement are used to remove items in the list."
   ]
  },
  {
   "cell_type": "code",
   "execution_count": 55,
   "id": "d3bf897f",
   "metadata": {},
   "outputs": [],
   "source": [
    "#code using remove().\n",
    "\n",
    "def remove_method(a):\n",
    "    try:\n",
    "        a.remove(\"New name\")\n",
    "        return a\n",
    "    \n",
    "    except Exception as BB:\n",
    "        return \" Error in code \", BB\n",
    "    \n",
    "    else:\n",
    "        return(\"remove methood code is succesfullly run\")"
   ]
  },
  {
   "cell_type": "code",
   "execution_count": 45,
   "id": "0c70cf85",
   "metadata": {},
   "outputs": [
    {
     "data": {
      "text/plain": [
       "[1, 2, 3, 4, 22, 55, 66, 'sbfusbfu']"
      ]
     },
     "execution_count": 45,
     "metadata": {},
     "output_type": "execute_result"
    }
   ],
   "source": [
    "remove_method([1,2,3,4,\"New name\",22,55,66,\"sbfusbfu\"])"
   ]
  },
  {
   "cell_type": "code",
   "execution_count": 54,
   "id": "b73f3135",
   "metadata": {},
   "outputs": [
    {
     "data": {
      "text/plain": [
       "[1, 2, 3, 4, 22, 55, 66, 'sbfusbfu']"
      ]
     },
     "execution_count": 54,
     "metadata": {},
     "output_type": "execute_result"
    }
   ],
   "source": [
    "#code using del statement.\n",
    "a = [1,2,3,4,\"New name\",22,55,66,\"sbfusbfu\"]\n",
    "def del_statement(a):\n",
    "    try:\n",
    "        del a[4]\n",
    "        return a\n",
    "    \n",
    "    except Exception as BB:\n",
    "        return \" Error in code \", BB\n",
    "    \n",
    "    else:\n",
    "        return(\"remove methood code is succesfullly run\")\n",
    "        \n",
    "del_statement(a)"
   ]
  },
  {
   "cell_type": "markdown",
   "id": "cef3acf0",
   "metadata": {},
   "source": [
    "# Describe How list values and string values are identical."
   ]
  },
  {
   "cell_type": "markdown",
   "id": "995873a0",
   "metadata": {},
   "source": [
    "Both lists and strings can be passed to len(), have indexes and slices, be used in for loops,\n",
    "be concatenated or replicated, and be used with the in and not in operators"
   ]
  },
  {
   "cell_type": "markdown",
   "id": "93192aea",
   "metadata": {},
   "source": [
    "# What is the difference between tuple and list."
   ]
  },
  {
   "cell_type": "markdown",
   "id": "99634254",
   "metadata": {},
   "source": [
    "# Tuple:-\n",
    "    It is immutable, so we cant changed,add and remove the values in tuple. It is written using '( )' token."
   ]
  },
  {
   "cell_type": "code",
   "execution_count": 67,
   "id": "9fc411d2",
   "metadata": {},
   "outputs": [
    {
     "ename": "AttributeError",
     "evalue": "'tuple' object has no attribute 'remove'",
     "output_type": "error",
     "traceback": [
      "\u001b[1;31m---------------------------------------------------------------------------\u001b[0m",
      "\u001b[1;31mAttributeError\u001b[0m                            Traceback (most recent call last)",
      "\u001b[1;32mC:\\Users\\BARISH~1\\AppData\\Local\\Temp/ipykernel_23964/443964213.py\u001b[0m in \u001b[0;36m<module>\u001b[1;34m\u001b[0m\n\u001b[0;32m      1\u001b[0m \u001b[0ma\u001b[0m \u001b[1;33m=\u001b[0m \u001b[1;33m(\u001b[0m\u001b[1;36m1\u001b[0m\u001b[1;33m,\u001b[0m\u001b[1;36m2\u001b[0m\u001b[1;33m,\u001b[0m\u001b[1;36m3\u001b[0m\u001b[1;33m,\u001b[0m\u001b[1;36m4\u001b[0m\u001b[1;33m,\u001b[0m\u001b[1;36m5\u001b[0m\u001b[1;33m,\u001b[0m\u001b[1;36m6\u001b[0m\u001b[1;33m,\u001b[0m\u001b[1;36m7\u001b[0m\u001b[1;33m,\u001b[0m\u001b[1;36m8\u001b[0m\u001b[1;33m,\u001b[0m\u001b[1;36m9\u001b[0m\u001b[1;33m)\u001b[0m\u001b[1;33m\u001b[0m\u001b[1;33m\u001b[0m\u001b[0m\n\u001b[0;32m      2\u001b[0m \u001b[1;33m\u001b[0m\u001b[0m\n\u001b[1;32m----> 3\u001b[1;33m \u001b[0ma\u001b[0m\u001b[1;33m.\u001b[0m\u001b[0mremove\u001b[0m\u001b[1;33m(\u001b[0m\u001b[1;36m3\u001b[0m\u001b[1;33m)\u001b[0m\u001b[1;33m\u001b[0m\u001b[1;33m\u001b[0m\u001b[0m\n\u001b[0m\u001b[0;32m      4\u001b[0m \u001b[0ma\u001b[0m\u001b[1;33m.\u001b[0m\u001b[0mappend\u001b[0m\u001b[1;33m(\u001b[0m\u001b[1;36m10\u001b[0m\u001b[1;33m)\u001b[0m\u001b[1;33m\u001b[0m\u001b[1;33m\u001b[0m\u001b[0m\n\u001b[0;32m      5\u001b[0m \u001b[0ma\u001b[0m\u001b[1;33m.\u001b[0m\u001b[0minsert\u001b[0m\u001b[1;33m(\u001b[0m\u001b[1;36m4\u001b[0m\u001b[1;33m,\u001b[0m\u001b[1;36m20\u001b[0m\u001b[1;33m)\u001b[0m\u001b[1;33m\u001b[0m\u001b[1;33m\u001b[0m\u001b[0m\n",
      "\u001b[1;31mAttributeError\u001b[0m: 'tuple' object has no attribute 'remove'"
     ]
    }
   ],
   "source": [
    "a = (1,2,3,4,5,6,7,8,9)\n",
    "\n",
    "a.remove(3)\n",
    "a.append(10)\n",
    "a.insert(4,20)"
   ]
  },
  {
   "cell_type": "code",
   "execution_count": 68,
   "id": "1cc2ec40",
   "metadata": {},
   "outputs": [
    {
     "data": {
      "text/plain": [
       "tuple"
      ]
     },
     "execution_count": 68,
     "metadata": {},
     "output_type": "execute_result"
    }
   ],
   "source": [
    "type(a)"
   ]
  },
  {
   "cell_type": "markdown",
   "id": "7a14807b",
   "metadata": {},
   "source": [
    "# list :-\n",
    "    list are mutable, so that we can add,remove and change the values of it. list is  written using '[]' token"
   ]
  },
  {
   "cell_type": "code",
   "execution_count": 69,
   "id": "d4ee44b0",
   "metadata": {},
   "outputs": [],
   "source": [
    "a = [1,2,3,4,5,6,7,8,9]\n",
    "\n",
    "a.remove(3)\n",
    "a.append(10)\n",
    "a.insert(4,20)"
   ]
  },
  {
   "cell_type": "code",
   "execution_count": 70,
   "id": "184ed611",
   "metadata": {},
   "outputs": [
    {
     "data": {
      "text/plain": [
       "[1, 2, 4, 5, 20, 6, 7, 8, 9, 10]"
      ]
     },
     "execution_count": 70,
     "metadata": {},
     "output_type": "execute_result"
    }
   ],
   "source": [
    "a"
   ]
  },
  {
   "cell_type": "code",
   "execution_count": 71,
   "id": "c91516b4",
   "metadata": {},
   "outputs": [
    {
     "data": {
      "text/plain": [
       "list"
      ]
     },
     "execution_count": 71,
     "metadata": {},
     "output_type": "execute_result"
    }
   ],
   "source": [
    "type(a)"
   ]
  },
  {
   "cell_type": "markdown",
   "id": "046b90ac",
   "metadata": {},
   "source": [
    "# How do you type a tuple value that only contains integer 42 ?"
   ]
  },
  {
   "cell_type": "code",
   "execution_count": 74,
   "id": "a4e4cba5",
   "metadata": {},
   "outputs": [],
   "source": [
    "b =(42,) # if we have single value at the end of that value comma is mandatory to give."
   ]
  },
  {
   "cell_type": "code",
   "execution_count": 75,
   "id": "1df626ae",
   "metadata": {},
   "outputs": [
    {
     "data": {
      "text/plain": [
       "tuple"
      ]
     },
     "execution_count": 75,
     "metadata": {},
     "output_type": "execute_result"
    }
   ],
   "source": [
    "type(b)"
   ]
  },
  {
   "cell_type": "markdown",
   "id": "66a31eae",
   "metadata": {},
   "source": [
    "# How do you get list values in tuple form? How do you get tuples value in list      form ?"
   ]
  },
  {
   "cell_type": "code",
   "execution_count": 92,
   "id": "b7a0af3b",
   "metadata": {},
   "outputs": [
    {
     "name": "stdout",
     "output_type": "stream",
     "text": [
      "(1, 2, 3, 4, 5, 6, 7, 8, 9)\n"
     ]
    }
   ],
   "source": [
    "a = [1,2,3,4,5,6,7,8,9]\n",
    "\n",
    "print(tuple(a))"
   ]
  },
  {
   "cell_type": "code",
   "execution_count": 93,
   "id": "3a02e204",
   "metadata": {},
   "outputs": [
    {
     "name": "stdout",
     "output_type": "stream",
     "text": [
      "[1, 2, 3, 4, 5, 6, 7, 8, 9]\n"
     ]
    }
   ],
   "source": [
    "b = (1,2,3,4,5,6,7,8,9)\n",
    "\n",
    "print(list(a))"
   ]
  },
  {
   "cell_type": "markdown",
   "id": "53825e48",
   "metadata": {},
   "source": [
    "# Varible that contain list values are not nessesarilly lists themselves.instated,       what do they contain ?"
   ]
  },
  {
   "cell_type": "markdown",
   "id": "d1e677f2",
   "metadata": {},
   "source": [
    "They contain references to list values."
   ]
  },
  {
   "cell_type": "markdown",
   "id": "e1c93716",
   "metadata": {},
   "source": [
    "# How do you distinguish beteen copy.copy() and copy.deepcopy() ?"
   ]
  },
  {
   "cell_type": "markdown",
   "id": "67110dfb",
   "metadata": {},
   "source": [
    "The copy.copy() function will do a shallow copy of a list, while the copy.deepcopy() function will do a deep copy of a list. \n",
    "That is, only copy.deepcopy() will duplicate any lists inside the list."
   ]
  },
  {
   "cell_type": "code",
   "execution_count": null,
   "id": "8595941b",
   "metadata": {},
   "outputs": [],
   "source": []
  }
 ],
 "metadata": {
  "kernelspec": {
   "display_name": "Python 3 (ipykernel)",
   "language": "python",
   "name": "python3"
  },
  "language_info": {
   "codemirror_mode": {
    "name": "ipython",
    "version": 3
   },
   "file_extension": ".py",
   "mimetype": "text/x-python",
   "name": "python",
   "nbconvert_exporter": "python",
   "pygments_lexer": "ipython3",
   "version": "3.9.7"
  }
 },
 "nbformat": 4,
 "nbformat_minor": 5
}
