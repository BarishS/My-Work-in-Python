{
 "cells": [
  {
   "cell_type": "markdown",
   "id": "37f69c15",
   "metadata": {},
   "source": [
    "# 1. What are the escape characters and how do you use them?"
   ]
  },
  {
   "cell_type": "markdown",
   "id": "479c071a",
   "metadata": {},
   "source": [
    "Escape characters:-\n",
    "    It is used in representing certain whitespace characters: “\\t” is a tab,  “\\n” is a new line, and “\\r” is a                \n",
    "    carriage return.\n",
    "    Escape characters represent the characters in string values that would otherwise be difficult or imposible \n",
    "    to type in to code."
   ]
  },
  {
   "cell_type": "markdown",
   "id": "a9f15209",
   "metadata": {},
   "source": [
    "# 2. What do you escape characters n and t stand for?"
   ]
  },
  {
   "cell_type": "markdown",
   "id": "cb206436",
   "metadata": {},
   "source": [
    "It is used in representing certain whitespace characters: “\\t” is a tab, “\\n” is a new line."
   ]
  },
  {
   "cell_type": "markdown",
   "id": "fb1c7456",
   "metadata": {},
   "source": [
    "# 3. What is the way to include backslash character in string?"
   ]
  },
  {
   "cell_type": "code",
   "execution_count": null,
   "id": "6f33dabb",
   "metadata": {},
   "outputs": [],
   "source": [
    "The \\\\ escape character will represent the backslash character in string."
   ]
  },
  {
   "cell_type": "markdown",
   "id": "93bd773c",
   "metadata": {},
   "source": [
    "# 4. The string \"Howl's Moving Castle\" is a correct value.Why isn't the single            quote character in the word Howl's not esacaped a problem?"
   ]
  },
  {
   "cell_type": "markdown",
   "id": "959dd884",
   "metadata": {},
   "source": [
    "The single quote in Howl's is fine because we’ve used double quotes to mark the beginning and end of the string."
   ]
  },
  {
   "cell_type": "markdown",
   "id": "6ca23bee",
   "metadata": {},
   "source": [
    "# 5. How do you write a string of new lines in strings without the \\n escape               character?"
   ]
  },
  {
   "cell_type": "markdown",
   "id": "180a45ac",
   "metadata": {},
   "source": [
    "Multiline strings allows us to new lines in strings without the \\n escape character."
   ]
  },
  {
   "cell_type": "code",
   "execution_count": 9,
   "id": "24a137d2",
   "metadata": {},
   "outputs": [],
   "source": [
    "a='''Barish\n",
    " Ananda\n",
    " Sawant\n",
    " '''"
   ]
  },
  {
   "cell_type": "code",
   "execution_count": 10,
   "id": "3c1f57e2",
   "metadata": {},
   "outputs": [
    {
     "data": {
      "text/plain": [
       "'Barish\\n Ananda\\n Sawant\\n '"
      ]
     },
     "execution_count": 10,
     "metadata": {},
     "output_type": "execute_result"
    }
   ],
   "source": [
    "a"
   ]
  },
  {
   "cell_type": "markdown",
   "id": "df350522",
   "metadata": {},
   "source": [
    "# 6. What are the values of the given exprestion?"
   ]
  },
  {
   "cell_type": "code",
   "execution_count": 15,
   "id": "b2446760",
   "metadata": {},
   "outputs": [
    {
     "data": {
      "text/plain": [
       "'e'"
      ]
     },
     "execution_count": 15,
     "metadata": {},
     "output_type": "execute_result"
    }
   ],
   "source": [
    "'Hello,world!'[1]"
   ]
  },
  {
   "cell_type": "code",
   "execution_count": 17,
   "id": "3a5d765a",
   "metadata": {},
   "outputs": [
    {
     "data": {
      "text/plain": [
       "'Hello'"
      ]
     },
     "execution_count": 17,
     "metadata": {},
     "output_type": "execute_result"
    }
   ],
   "source": [
    "'Hello,world!'[0:5]"
   ]
  },
  {
   "cell_type": "code",
   "execution_count": 18,
   "id": "a5350084",
   "metadata": {},
   "outputs": [
    {
     "data": {
      "text/plain": [
       "'Hello'"
      ]
     },
     "execution_count": 18,
     "metadata": {},
     "output_type": "execute_result"
    }
   ],
   "source": [
    "'Hello,world'[:5]"
   ]
  },
  {
   "cell_type": "code",
   "execution_count": 19,
   "id": "0aded665",
   "metadata": {},
   "outputs": [
    {
     "data": {
      "text/plain": [
       "'lo,world'"
      ]
     },
     "execution_count": 19,
     "metadata": {},
     "output_type": "execute_result"
    }
   ],
   "source": [
    "'Hello,world'[3:]"
   ]
  },
  {
   "cell_type": "markdown",
   "id": "51c37379",
   "metadata": {},
   "source": [
    "# 7. What are the values of the given exprestion?"
   ]
  },
  {
   "cell_type": "code",
   "execution_count": 11,
   "id": "55aa871b",
   "metadata": {},
   "outputs": [
    {
     "data": {
      "text/plain": [
       "'HELLO'"
      ]
     },
     "execution_count": 11,
     "metadata": {},
     "output_type": "execute_result"
    }
   ],
   "source": [
    "'Hello'.upper()"
   ]
  },
  {
   "cell_type": "code",
   "execution_count": 12,
   "id": "28277d03",
   "metadata": {},
   "outputs": [
    {
     "data": {
      "text/plain": [
       "True"
      ]
     },
     "execution_count": 12,
     "metadata": {},
     "output_type": "execute_result"
    }
   ],
   "source": [
    "'Hello'.upper().isupper()"
   ]
  },
  {
   "cell_type": "code",
   "execution_count": 13,
   "id": "1f31023d",
   "metadata": {},
   "outputs": [
    {
     "data": {
      "text/plain": [
       "'hello'"
      ]
     },
     "execution_count": 13,
     "metadata": {},
     "output_type": "execute_result"
    }
   ],
   "source": [
    "'Hello'.upper().lower()"
   ]
  },
  {
   "cell_type": "markdown",
   "id": "4b1278a9",
   "metadata": {},
   "source": [
    "# 8. What are the values of the given exprestion?"
   ]
  },
  {
   "cell_type": "code",
   "execution_count": 21,
   "id": "9d03acd8",
   "metadata": {},
   "outputs": [
    {
     "data": {
      "text/plain": [
       "['Remember,remember,the', 'fifth', 'of', 'july.']"
      ]
     },
     "execution_count": 21,
     "metadata": {},
     "output_type": "execute_result"
    }
   ],
   "source": [
    "'Remember,remember,the fifth of july.'.split()\n"
   ]
  },
  {
   "cell_type": "code",
   "execution_count": 22,
   "id": "8b39572f",
   "metadata": {},
   "outputs": [
    {
     "data": {
      "text/plain": [
       "'There-can-only-one.'"
      ]
     },
     "execution_count": 22,
     "metadata": {},
     "output_type": "execute_result"
    }
   ],
   "source": [
    "'-'.join('There can only one.'.split())"
   ]
  },
  {
   "cell_type": "markdown",
   "id": "9b0672d3",
   "metadata": {},
   "source": [
    "# 9. What are the method of right-justifying,left-justifying, and centering a                  string?"
   ]
  },
  {
   "cell_type": "markdown",
   "id": "04e320ed",
   "metadata": {},
   "source": [
    "The rjust(), ljust() and center() are the methods of right-justifying,left-justifying and centering a string."
   ]
  },
  {
   "cell_type": "markdown",
   "id": "315bd4b8",
   "metadata": {},
   "source": [
    "# 10. What is the best way to remove whitespace characters from the start or              end? "
   ]
  },
  {
   "cell_type": "markdown",
   "id": "97abe457",
   "metadata": {},
   "source": [
    "The lstrip() and rstrip() remove whitespace from the left and right end of the string,respectively."
   ]
  },
  {
   "cell_type": "code",
   "execution_count": 36,
   "id": "d68de501",
   "metadata": {},
   "outputs": [],
   "source": [
    "a=\" nofdngonngo dfngidngidfngn gginignnng \""
   ]
  },
  {
   "cell_type": "code",
   "execution_count": 37,
   "id": "5e16c60e",
   "metadata": {},
   "outputs": [
    {
     "data": {
      "text/plain": [
       "' nofdngonngo dfngidngidfngn gginignnng '"
      ]
     },
     "execution_count": 37,
     "metadata": {},
     "output_type": "execute_result"
    }
   ],
   "source": [
    "a"
   ]
  },
  {
   "cell_type": "code",
   "execution_count": 38,
   "id": "7be0efff",
   "metadata": {},
   "outputs": [
    {
     "data": {
      "text/plain": [
       "'nofdngonngo dfngidngidfngn gginignnng '"
      ]
     },
     "execution_count": 38,
     "metadata": {},
     "output_type": "execute_result"
    }
   ],
   "source": [
    "a.lstrip()"
   ]
  },
  {
   "cell_type": "code",
   "execution_count": 39,
   "id": "034cef25",
   "metadata": {},
   "outputs": [
    {
     "data": {
      "text/plain": [
       "' nofdngonngo dfngidngidfngn gginignnng'"
      ]
     },
     "execution_count": 39,
     "metadata": {},
     "output_type": "execute_result"
    }
   ],
   "source": [
    "a.rstrip()"
   ]
  },
  {
   "cell_type": "code",
   "execution_count": null,
   "id": "97591913",
   "metadata": {},
   "outputs": [],
   "source": []
  }
 ],
 "metadata": {
  "kernelspec": {
   "display_name": "Python 3 (ipykernel)",
   "language": "python",
   "name": "python3"
  },
  "language_info": {
   "codemirror_mode": {
    "name": "ipython",
    "version": 3
   },
   "file_extension": ".py",
   "mimetype": "text/x-python",
   "name": "python",
   "nbconvert_exporter": "python",
   "pygments_lexer": "ipython3",
   "version": "3.9.7"
  }
 },
 "nbformat": 4,
 "nbformat_minor": 5
}
