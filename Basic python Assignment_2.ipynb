{
 "cells": [
  {
   "cell_type": "markdown",
   "id": "247fadbd",
   "metadata": {},
   "source": [
    "# What are the two values of the Boolean data type? How do you write them?\n",
    "\n",
    "Values of booleen data type: -\n",
    "    1. True\n",
    "    2. False"
   ]
  },
  {
   "cell_type": "code",
   "execution_count": null,
   "id": "c6ac45ab",
   "metadata": {},
   "outputs": [],
   "source": [
    "a = int(input(\"Enter the value of a: \"))\n",
    "if a<=10:\n",
    "        print(True)\n",
    "if a>10:\n",
    "        print(False)\n"
   ]
  },
  {
   "cell_type": "markdown",
   "id": "f0642c98",
   "metadata": {},
   "source": [
    "# What are the three different types of Boolean operators?\n",
    "\n",
    "and - &\n",
    "or  - \\\n",
    "not - !\n",
    "Above three type of operators are used as boolen operators."
   ]
  },
  {
   "cell_type": "markdown",
   "id": "1412ee78",
   "metadata": {},
   "source": [
    "# Make a list of each Boolean operator's truth tables (i.e. every possible                  combination of Boolean values for the operator and what it evaluate ).\n",
    "\n",
    "If we consider True and False in terms of  binory values.\n",
    "True =  1\n",
    "False = 0\n",
    "\n",
    "and operator combination:-\n",
    "1 and 0 = 0\n",
    "0 and 1 = 0\n",
    "0 and 0 = 0\n",
    "1 and 1 = 1\n",
    "\n",
    "or operator combination:-\n",
    "1 or 0 = 1\n",
    "0 or 1 = 1\n",
    "0 or 0 = 1\n",
    "1 or 1 = 1\n",
    "\n",
    "not operator combination:-\n",
    "not False = True\n",
    "not True  = False"
   ]
  },
  {
   "cell_type": "code",
   "execution_count": null,
   "id": "653c6c9f",
   "metadata": {},
   "outputs": [],
   "source": [
    "# enter values in the form of 0 and 1 , and operator evaluates :-\n",
    "\n",
    "a = int(input(\"Enter value of a: \"))\n",
    "b = int(input(\"Enter value of b: \"))\n",
    "if a and b == True :\n",
    "    print(\"Given condition is True\")\n",
    "else:\n",
    "    print(\"Given condition is False\")\n",
    "    "
   ]
  },
  {
   "cell_type": "code",
   "execution_count": null,
   "id": "62bccd50",
   "metadata": {},
   "outputs": [],
   "source": [
    "# enter values in the form of 0 and 1,  or operator evaluates :-\n",
    "a = int(input(\"Enter value of a: \"))\n",
    "b = int(input(\"Enter value of b: \"))\n",
    "if a or b == True :\n",
    "    print(\"Given condition is True\")\n",
    "else:\n",
    "    print(\"Given condition is False\")"
   ]
  },
  {
   "cell_type": "code",
   "execution_count": null,
   "id": "4578f2b9",
   "metadata": {},
   "outputs": [],
   "source": [
    "a = int(input(\"Enter value of a: \"))\n",
    "b = int(input(\"Enter value of b: \"))\n",
    "c = a + b\n",
    "if c == 20 :\n",
    "    print(not False)\n",
    "else:\n",
    "    print(not True)"
   ]
  },
  {
   "cell_type": "markdown",
   "id": "924e19bc",
   "metadata": {},
   "source": [
    "# What are the values of the following expressions?\n",
    "(5 > 4) and (3 == 5)                 - False\n",
    "not (5 > 4)                          - False\n",
    "(5 > 4) or (3 == 5)                  - True\n",
    "not ((5 > 4) or (3 == 5))            - False\n",
    "(True and True) and (True == False)  - False\n",
    "(not False) or (not True)            - True\n"
   ]
  },
  {
   "cell_type": "code",
   "execution_count": null,
   "id": "246aec55",
   "metadata": {},
   "outputs": [],
   "source": [
    "(5 > 4) and (3 == 5)"
   ]
  },
  {
   "cell_type": "code",
   "execution_count": null,
   "id": "eeb88a7c",
   "metadata": {},
   "outputs": [],
   "source": [
    "not (5 > 4)"
   ]
  },
  {
   "cell_type": "code",
   "execution_count": null,
   "id": "e945ce7c",
   "metadata": {},
   "outputs": [],
   "source": [
    "(5 > 4) or (3 == 5)"
   ]
  },
  {
   "cell_type": "code",
   "execution_count": null,
   "id": "2a879107",
   "metadata": {},
   "outputs": [],
   "source": [
    "not ((5 > 4) or (3 == 5))"
   ]
  },
  {
   "cell_type": "code",
   "execution_count": null,
   "id": "88ed554c",
   "metadata": {},
   "outputs": [],
   "source": [
    "(True and True) and (True == False)"
   ]
  },
  {
   "cell_type": "code",
   "execution_count": null,
   "id": "83aee606",
   "metadata": {},
   "outputs": [],
   "source": [
    "(not False) or (not True)"
   ]
  },
  {
   "cell_type": "markdown",
   "id": "c62a322a",
   "metadata": {},
   "source": [
    "# What are the six comparison operators?\n",
    "\n",
    " Comparision Operator   -  Token\n",
    " \n",
    " Less than                 <\n",
    " Greater than              >\n",
    " Less than Equal to        <=\n",
    " Greater than equal to     >=\n",
    " not equal to              !=\n",
    " euality                   ==\n",
    " "
   ]
  },
  {
   "cell_type": "markdown",
   "id": "03777e50",
   "metadata": {},
   "source": [
    "# How do you tell the difference between the equal to and assignment                    operators?Describe a condition and when you would use one.\n",
    "\n",
    "equal to (==) operator is used to compare two values and evalute the condition that True or false. \n",
    "equal assignment operator is used to store a variable value."
   ]
  },
  {
   "cell_type": "code",
   "execution_count": null,
   "id": "ff8a1708",
   "metadata": {},
   "outputs": [],
   "source": [
    "a = 10\n",
    "b = 20\n",
    "if a == b:\n",
    "    print(\"Both values are equal \")\n",
    "\n",
    "else:\n",
    "    print(\"Both values are not equal \")\n",
    "    "
   ]
  },
  {
   "cell_type": "code",
   "execution_count": null,
   "id": "9bea011a",
   "metadata": {},
   "outputs": [],
   "source": [
    "a = 20\n",
    "b = \"Barish\"\n",
    "c,d,e = (2,3,4,5),[\"snfib\",\"bisfi\",55],{55,66,44,4+5j}"
   ]
  },
  {
   "cell_type": "code",
   "execution_count": null,
   "id": "35dda68e",
   "metadata": {},
   "outputs": [],
   "source": [
    "a"
   ]
  },
  {
   "cell_type": "code",
   "execution_count": null,
   "id": "30c37e8b",
   "metadata": {},
   "outputs": [],
   "source": [
    "b "
   ]
  },
  {
   "cell_type": "code",
   "execution_count": null,
   "id": "9ce22dde",
   "metadata": {},
   "outputs": [],
   "source": [
    "c"
   ]
  },
  {
   "cell_type": "code",
   "execution_count": null,
   "id": "ebcba34f",
   "metadata": {},
   "outputs": [],
   "source": [
    "d"
   ]
  },
  {
   "cell_type": "code",
   "execution_count": null,
   "id": "37c1889c",
   "metadata": {},
   "outputs": [],
   "source": [
    "e"
   ]
  },
  {
   "cell_type": "markdown",
   "id": "cfa6e256",
   "metadata": {},
   "source": [
    "# Identify the three blocks in this code:\n",
    "spam = 0\n",
    "if spam == 10:\n",
    "print('eggs')\n",
    "if spam > 5:\n",
    "print('bacon')\n",
    "else:\n",
    "print('ham')\n",
    "print('spam')\n",
    "print('spam')\n"
   ]
  },
  {
   "cell_type": "code",
   "execution_count": null,
   "id": "7c4b983e",
   "metadata": {},
   "outputs": [],
   "source": [
    "spam = 0\n",
    "if spam == 10:\n",
    "    print('eggs')\n",
    "if spam > 5:\n",
    "    print('bacon')\n",
    "else:\n",
    "    print('ham')\n",
    "    print('spam')\n",
    "    print('spam')"
   ]
  },
  {
   "cell_type": "markdown",
   "id": "40d408a6",
   "metadata": {},
   "source": [
    "# Write code that prints Hello if 1 is stored in spam, prints Howdy if 2 is stored      in spam, and prints Greetings! if anything else is stored in spam."
   ]
  },
  {
   "cell_type": "code",
   "execution_count": null,
   "id": "f83e299f",
   "metadata": {},
   "outputs": [],
   "source": [
    "spam = int(input(\"Enter the spm value: \"))\n",
    "if spam == 1:\n",
    "    print(\"Hello\")\n",
    "elif spam == 2:\n",
    "    print(\"Howdy\")\n",
    "else :\n",
    "    print(\"Greetings\")"
   ]
  },
  {
   "cell_type": "markdown",
   "id": "917ee434",
   "metadata": {},
   "source": [
    "# If your programme is stuck in an endless loop, what keys you’ll press?\n",
    "\n",
    "'kernel' tool in that 'Interrupt' key we have to press.\n",
    "shortcut key - Control + C"
   ]
  },
  {
   "cell_type": "markdown",
   "id": "07ca263f",
   "metadata": {},
   "source": [
    "# How can you tell the difference between break and continue?\n",
    "\n",
    "break Statement :-\n",
    "    break Statement is used to terminates the loop and control program flow to the statement immediatly after the body of the loop."
   ]
  },
  {
   "cell_type": "code",
   "execution_count": 4,
   "id": "d91baaef",
   "metadata": {},
   "outputs": [
    {
     "name": "stdout",
     "output_type": "stream",
     "text": [
      "current letter :  e\n",
      "current letter :  x\n",
      "current letter :  a\n",
      "current letter :  m\n",
      "current letter :  p\n",
      "current letter :  l\n",
      "current letter :  e\n",
      "current letter :   \n",
      "current letter :  o\n",
      "current letter :  f\n",
      "current letter :   \n"
     ]
    }
   ],
   "source": [
    "l = \"example of break statement\"\n",
    "for k in l:\n",
    "    if k == \"b\":\n",
    "        break\n",
    "    print(\"current letter : \", k)"
   ]
  },
  {
   "cell_type": "code",
   "execution_count": null,
   "id": "8bd12e39",
   "metadata": {},
   "outputs": [],
   "source": [
    "continue Statement :-\n",
    "    Continue statement is used to skip the rest of the code inside a loop for the current iteration only.\n",
    "    It does not terminate loop."
   ]
  },
  {
   "cell_type": "code",
   "execution_count": 2,
   "id": "96c02d62",
   "metadata": {},
   "outputs": [
    {
     "name": "stdout",
     "output_type": "stream",
     "text": [
      "1\n",
      "3\n",
      "5\n",
      "7\n",
      "9\n"
     ]
    }
   ],
   "source": [
    "a =[1,2,3,4,5,6,7,8,9,10]\n",
    "for i in a:\n",
    "    if i%2 == 0:\n",
    "        continue\n",
    "    print(i)"
   ]
  },
  {
   "cell_type": "markdown",
   "id": "b90187ba",
   "metadata": {},
   "source": [
    "# In a for loop, what is the difference between range(10), range(0, 10), and              range(0, 10, 1)?\n"
   ]
  },
  {
   "cell_type": "code",
   "execution_count": 6,
   "id": "1a3fe76a",
   "metadata": {},
   "outputs": [
    {
     "data": {
      "text/plain": [
       "range(0, 10)"
      ]
     },
     "execution_count": 6,
     "metadata": {},
     "output_type": "execute_result"
    }
   ],
   "source": [
    "range(10)\n"
   ]
  },
  {
   "cell_type": "code",
   "execution_count": 7,
   "id": "5c6835a0",
   "metadata": {},
   "outputs": [
    {
     "data": {
      "text/plain": [
       "range(0, 10)"
      ]
     },
     "execution_count": 7,
     "metadata": {},
     "output_type": "execute_result"
    }
   ],
   "source": [
    "range(0,10)"
   ]
  },
  {
   "cell_type": "code",
   "execution_count": 8,
   "id": "7f8959fa",
   "metadata": {},
   "outputs": [
    {
     "data": {
      "text/plain": [
       "range(0, 10)"
      ]
     },
     "execution_count": 8,
     "metadata": {},
     "output_type": "execute_result"
    }
   ],
   "source": [
    "range(0,10,1)"
   ]
  },
  {
   "cell_type": "code",
   "execution_count": null,
   "id": "4bb350df",
   "metadata": {},
   "outputs": [],
   "source": [
    "The output of all is same.\n",
    "But range(10) is range of 0 to 10(not including 10),\n",
    "range(0,10) spcificaly tell the range start with 0 and upto 10(not including 10),\n",
    "range(0,10,1) this range tells that increse the variable by addition 1 variable."
   ]
  },
  {
   "cell_type": "markdown",
   "id": "2d954715",
   "metadata": {},
   "source": [
    "# Write a short program that prints the numbers 1 to 10 using a for loop.                Then write an equivalent program that prints the numbers 1 to 10 using a            while loop."
   ]
  },
  {
   "cell_type": "code",
   "execution_count": 3,
   "id": "0ce060c7",
   "metadata": {},
   "outputs": [
    {
     "name": "stdout",
     "output_type": "stream",
     "text": [
      "1\n",
      "2\n",
      "3\n",
      "4\n",
      "5\n",
      "6\n",
      "7\n",
      "8\n",
      "9\n"
     ]
    }
   ],
   "source": [
    "a=10\n",
    "for i in range(1,a):\n",
    "    print(i)"
   ]
  },
  {
   "cell_type": "code",
   "execution_count": 4,
   "id": "fad92066",
   "metadata": {},
   "outputs": [
    {
     "name": "stdout",
     "output_type": "stream",
     "text": [
      "1\n",
      "2\n",
      "3\n",
      "4\n",
      "5\n",
      "6\n",
      "7\n",
      "8\n",
      "9\n",
      "10\n"
     ]
    }
   ],
   "source": [
    "b=10\n",
    "i=1\n",
    "while i<= 10:\n",
    "        print(i)\n",
    "        i = i+1"
   ]
  },
  {
   "cell_type": "markdown",
   "id": "86ac877c",
   "metadata": {},
   "source": [
    "# If you had a function named bacon() inside a module named spam, how would you call it after importing spam?"
   ]
  },
  {
   "cell_type": "code",
   "execution_count": null,
   "id": "25378496",
   "metadata": {},
   "outputs": [],
   "source": [
    "spam.bacon()"
   ]
  },
  {
   "cell_type": "code",
   "execution_count": null,
   "id": "1d230637",
   "metadata": {},
   "outputs": [],
   "source": []
  }
 ],
 "metadata": {
  "kernelspec": {
   "display_name": "Python 3 (ipykernel)",
   "language": "python",
   "name": "python3"
  },
  "language_info": {
   "codemirror_mode": {
    "name": "ipython",
    "version": 3
   },
   "file_extension": ".py",
   "mimetype": "text/x-python",
   "name": "python",
   "nbconvert_exporter": "python",
   "pygments_lexer": "ipython3",
   "version": "3.9.7"
  }
 },
 "nbformat": 4,
 "nbformat_minor": 5
}
